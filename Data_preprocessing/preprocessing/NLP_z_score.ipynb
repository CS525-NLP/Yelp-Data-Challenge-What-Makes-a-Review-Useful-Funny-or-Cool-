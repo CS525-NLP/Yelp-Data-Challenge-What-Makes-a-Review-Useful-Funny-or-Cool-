{
 "cells": [
  {
   "cell_type": "code",
   "execution_count": null,
   "metadata": {
    "colab": {
     "base_uri": "https://localhost:8080/"
    },
    "id": "KCqsnFdVZJU_",
    "outputId": "d4683d32-28ac-4a1d-dcb8-5ef51d9de16c"
   },
   "outputs": [
    {
     "name": "stdout",
     "output_type": "stream",
     "text": [
      "Collecting transformers\n",
      "  Downloading transformers-4.13.0-py3-none-any.whl (3.3 MB)\n",
      "\u001b[K     |████████████████████████████████| 3.3 MB 13.5 MB/s \n",
      "\u001b[?25hRequirement already satisfied: requests in /usr/local/lib/python3.7/dist-packages (from transformers) (2.23.0)\n",
      "Collecting pyyaml>=5.1\n",
      "  Downloading PyYAML-6.0-cp37-cp37m-manylinux_2_5_x86_64.manylinux1_x86_64.manylinux_2_12_x86_64.manylinux2010_x86_64.whl (596 kB)\n",
      "\u001b[K     |████████████████████████████████| 596 kB 30.0 MB/s \n",
      "\u001b[?25hRequirement already satisfied: filelock in /usr/local/lib/python3.7/dist-packages (from transformers) (3.4.0)\n",
      "Requirement already satisfied: tqdm>=4.27 in /usr/local/lib/python3.7/dist-packages (from transformers) (4.62.3)\n",
      "Requirement already satisfied: importlib-metadata in /usr/local/lib/python3.7/dist-packages (from transformers) (4.8.2)\n",
      "Collecting tokenizers<0.11,>=0.10.1\n",
      "  Downloading tokenizers-0.10.3-cp37-cp37m-manylinux_2_5_x86_64.manylinux1_x86_64.manylinux_2_12_x86_64.manylinux2010_x86_64.whl (3.3 MB)\n",
      "\u001b[K     |████████████████████████████████| 3.3 MB 24.7 MB/s \n",
      "\u001b[?25hRequirement already satisfied: packaging>=20.0 in /usr/local/lib/python3.7/dist-packages (from transformers) (21.3)\n",
      "Requirement already satisfied: numpy>=1.17 in /usr/local/lib/python3.7/dist-packages (from transformers) (1.19.5)\n",
      "Collecting huggingface-hub<1.0,>=0.1.0\n",
      "  Downloading huggingface_hub-0.2.1-py3-none-any.whl (61 kB)\n",
      "\u001b[K     |████████████████████████████████| 61 kB 476 kB/s \n",
      "\u001b[?25hCollecting sacremoses\n",
      "  Downloading sacremoses-0.0.46-py3-none-any.whl (895 kB)\n",
      "\u001b[K     |████████████████████████████████| 895 kB 29.1 MB/s \n",
      "\u001b[?25hRequirement already satisfied: regex!=2019.12.17 in /usr/local/lib/python3.7/dist-packages (from transformers) (2019.12.20)\n",
      "Requirement already satisfied: typing-extensions>=3.7.4.3 in /usr/local/lib/python3.7/dist-packages (from huggingface-hub<1.0,>=0.1.0->transformers) (3.10.0.2)\n",
      "Requirement already satisfied: pyparsing!=3.0.5,>=2.0.2 in /usr/local/lib/python3.7/dist-packages (from packaging>=20.0->transformers) (3.0.6)\n",
      "Requirement already satisfied: zipp>=0.5 in /usr/local/lib/python3.7/dist-packages (from importlib-metadata->transformers) (3.6.0)\n",
      "Requirement already satisfied: idna<3,>=2.5 in /usr/local/lib/python3.7/dist-packages (from requests->transformers) (2.10)\n",
      "Requirement already satisfied: chardet<4,>=3.0.2 in /usr/local/lib/python3.7/dist-packages (from requests->transformers) (3.0.4)\n",
      "Requirement already satisfied: certifi>=2017.4.17 in /usr/local/lib/python3.7/dist-packages (from requests->transformers) (2021.10.8)\n",
      "Requirement already satisfied: urllib3!=1.25.0,!=1.25.1,<1.26,>=1.21.1 in /usr/local/lib/python3.7/dist-packages (from requests->transformers) (1.24.3)\n",
      "Requirement already satisfied: click in /usr/local/lib/python3.7/dist-packages (from sacremoses->transformers) (7.1.2)\n",
      "Requirement already satisfied: six in /usr/local/lib/python3.7/dist-packages (from sacremoses->transformers) (1.15.0)\n",
      "Requirement already satisfied: joblib in /usr/local/lib/python3.7/dist-packages (from sacremoses->transformers) (1.1.0)\n",
      "Installing collected packages: pyyaml, tokenizers, sacremoses, huggingface-hub, transformers\n",
      "  Attempting uninstall: pyyaml\n",
      "    Found existing installation: PyYAML 3.13\n",
      "    Uninstalling PyYAML-3.13:\n",
      "      Successfully uninstalled PyYAML-3.13\n",
      "Successfully installed huggingface-hub-0.2.1 pyyaml-6.0 sacremoses-0.0.46 tokenizers-0.10.3 transformers-4.13.0\n"
     ]
    }
   ],
   "source": [
    "!pip install transformers"
   ]
  },
  {
   "cell_type": "code",
   "execution_count": null,
   "metadata": {
    "colab": {
     "base_uri": "https://localhost:8080/"
    },
    "id": "nOab0K-4ZSfC",
    "outputId": "3a882036-996a-4979-a25c-156ac36056e5"
   },
   "outputs": [
    {
     "name": "stdout",
     "output_type": "stream",
     "text": [
      "NVIDIA-SMI has failed because it couldn't communicate with the NVIDIA driver. Make sure that the latest NVIDIA driver is installed and running.\n",
      "\n"
     ]
    }
   ],
   "source": [
    "!nvidia-smi"
   ]
  },
  {
   "cell_type": "code",
   "execution_count": 1,
   "metadata": {
    "id": "nTls6FdlZsMx"
   },
   "outputs": [],
   "source": [
    "import torch\n",
    "#from transformers.file_utils import is_tf_available, is_torch_available, is_torch_tpu_available\n",
    "#from transformers import BertTokenizerFast, BertForSequenceClassification\n",
    "from nltk.stem import WordNetLemmatizer\n",
    "from nltk.tokenize import word_tokenize\n",
    "from sklearn.feature_extraction.text import TfidfVectorizer\n",
    "import numpy as np\n",
    "import pandas as pd\n",
    "import random\n",
    "from sklearn.model_selection import train_test_split\n",
    "import seaborn as sns\n",
    "import matplotlib.pyplot as plt\n",
    "import re\n",
    "import nltk\n",
    "from sklearn.preprocessing import LabelBinarizer\n",
    "from nltk.corpus import stopwords\n",
    "from nltk.stem.porter import PorterStemmer\n",
    "from nltk.tokenize import word_tokenize, sent_tokenize\n",
    "import string\n",
    "import gensim\n",
    "import gensim.downloader as gensim_api\n",
    "from sklearn.model_selection import train_test_split"
   ]
  },
  {
   "cell_type": "markdown",
   "metadata": {
    "id": "k0Di8OBpgvAn"
   },
   "source": [
    "# Import data"
   ]
  },
  {
   "cell_type": "code",
   "execution_count": 2,
   "metadata": {
    "id": "9DgQHhGxdM4I"
   },
   "outputs": [],
   "source": [
    "data = pd.read_csv(\"review_cleaned.csv\")"
   ]
  },
  {
   "cell_type": "code",
   "execution_count": 15,
   "metadata": {},
   "outputs": [
    {
     "name": "stderr",
     "output_type": "stream",
     "text": [
      "<ipython-input-15-de8404ac4f84>:1: SettingWithCopyWarning: \n",
      "A value is trying to be set on a copy of a slice from a DataFrame.\n",
      "Try using .loc[row_indexer,col_indexer] = value instead\n",
      "\n",
      "See the caveats in the documentation: https://pandas.pydata.org/pandas-docs/stable/user_guide/indexing.html#returning-a-view-versus-a-copy\n",
      "  main_data[\"date_ymd\"]=date_list\n"
     ]
    }
   ],
   "source": [
    "main_data[\"date_ymd\"]=date_list"
   ]
  },
  {
   "cell_type": "code",
   "execution_count": 16,
   "metadata": {},
   "outputs": [
    {
     "data": {
      "text/html": [
       "<div>\n",
       "<style scoped>\n",
       "    .dataframe tbody tr th:only-of-type {\n",
       "        vertical-align: middle;\n",
       "    }\n",
       "\n",
       "    .dataframe tbody tr th {\n",
       "        vertical-align: top;\n",
       "    }\n",
       "\n",
       "    .dataframe thead th {\n",
       "        text-align: right;\n",
       "    }\n",
       "</style>\n",
       "<table border=\"1\" class=\"dataframe\">\n",
       "  <thead>\n",
       "    <tr style=\"text-align: right;\">\n",
       "      <th></th>\n",
       "      <th>date</th>\n",
       "      <th>text</th>\n",
       "      <th>useful</th>\n",
       "      <th>funny</th>\n",
       "      <th>cool</th>\n",
       "      <th>sum_ufc</th>\n",
       "      <th>useful_label</th>\n",
       "      <th>funny_label</th>\n",
       "      <th>cool_label</th>\n",
       "      <th>date_ymd</th>\n",
       "    </tr>\n",
       "  </thead>\n",
       "  <tbody>\n",
       "    <tr>\n",
       "      <th>0</th>\n",
       "      <td>2020-05-12 21:18:10</td>\n",
       "      <td>leaving room go left sticker shock confronted ...</td>\n",
       "      <td>0.0</td>\n",
       "      <td>0.0</td>\n",
       "      <td>0.0</td>\n",
       "      <td>0</td>\n",
       "      <td>0.0</td>\n",
       "      <td>0.0</td>\n",
       "      <td>0.0</td>\n",
       "      <td>2020-05-12</td>\n",
       "    </tr>\n",
       "    <tr>\n",
       "      <th>1</th>\n",
       "      <td>2012-04-03 05:28:46</td>\n",
       "      <td>time general food fine great service always pr...</td>\n",
       "      <td>0.0</td>\n",
       "      <td>0.0</td>\n",
       "      <td>0.0</td>\n",
       "      <td>0</td>\n",
       "      <td>0.0</td>\n",
       "      <td>0.0</td>\n",
       "      <td>0.0</td>\n",
       "      <td>2012-04-03</td>\n",
       "    </tr>\n",
       "    <tr>\n",
       "      <th>2</th>\n",
       "      <td>2020-02-21 01:48:36</td>\n",
       "      <td>pork belly entree yummy done right fish chip g...</td>\n",
       "      <td>0.0</td>\n",
       "      <td>0.0</td>\n",
       "      <td>0.0</td>\n",
       "      <td>0</td>\n",
       "      <td>0.0</td>\n",
       "      <td>0.0</td>\n",
       "      <td>0.0</td>\n",
       "      <td>2020-02-21</td>\n",
       "    </tr>\n",
       "    <tr>\n",
       "      <th>3</th>\n",
       "      <td>2017-12-29 20:35:49</td>\n",
       "      <td>walked store customer least two staff member w...</td>\n",
       "      <td>0.0</td>\n",
       "      <td>0.0</td>\n",
       "      <td>0.0</td>\n",
       "      <td>0</td>\n",
       "      <td>0.0</td>\n",
       "      <td>0.0</td>\n",
       "      <td>0.0</td>\n",
       "      <td>2017-12-29</td>\n",
       "    </tr>\n",
       "    <tr>\n",
       "      <th>4</th>\n",
       "      <td>2019-04-27 14:17:17</td>\n",
       "      <td>sat min lobby nobody work call someone phone s...</td>\n",
       "      <td>0.0</td>\n",
       "      <td>0.0</td>\n",
       "      <td>0.0</td>\n",
       "      <td>0</td>\n",
       "      <td>0.0</td>\n",
       "      <td>0.0</td>\n",
       "      <td>0.0</td>\n",
       "      <td>2019-04-27</td>\n",
       "    </tr>\n",
       "    <tr>\n",
       "      <th>...</th>\n",
       "      <td>...</td>\n",
       "      <td>...</td>\n",
       "      <td>...</td>\n",
       "      <td>...</td>\n",
       "      <td>...</td>\n",
       "      <td>...</td>\n",
       "      <td>...</td>\n",
       "      <td>...</td>\n",
       "      <td>...</td>\n",
       "      <td>...</td>\n",
       "    </tr>\n",
       "    <tr>\n",
       "      <th>83921</th>\n",
       "      <td>2018-02-07 22:33:56</td>\n",
       "      <td>copacabana cuba caf bookmarked age finally got...</td>\n",
       "      <td>9.0</td>\n",
       "      <td>6.0</td>\n",
       "      <td>11.0</td>\n",
       "      <td>26</td>\n",
       "      <td>0.0</td>\n",
       "      <td>0.0</td>\n",
       "      <td>1.0</td>\n",
       "      <td>2018-02-07</td>\n",
       "    </tr>\n",
       "    <tr>\n",
       "      <th>83922</th>\n",
       "      <td>2021-01-27 01:49:00</td>\n",
       "      <td>informative workshop live alone always find si...</td>\n",
       "      <td>10.0</td>\n",
       "      <td>1.0</td>\n",
       "      <td>11.0</td>\n",
       "      <td>22</td>\n",
       "      <td>0.0</td>\n",
       "      <td>0.0</td>\n",
       "      <td>1.0</td>\n",
       "      <td>2021-01-27</td>\n",
       "    </tr>\n",
       "    <tr>\n",
       "      <th>83923</th>\n",
       "      <td>2018-12-22 03:57:23</td>\n",
       "      <td>stopped quickly twice stay hilton obviously co...</td>\n",
       "      <td>8.0</td>\n",
       "      <td>1.0</td>\n",
       "      <td>11.0</td>\n",
       "      <td>20</td>\n",
       "      <td>0.0</td>\n",
       "      <td>0.0</td>\n",
       "      <td>1.0</td>\n",
       "      <td>2018-12-22</td>\n",
       "    </tr>\n",
       "    <tr>\n",
       "      <th>83924</th>\n",
       "      <td>2017-11-28 00:25:04</td>\n",
       "      <td>really enjoy visiting location specially since...</td>\n",
       "      <td>10.0</td>\n",
       "      <td>9.0</td>\n",
       "      <td>13.0</td>\n",
       "      <td>32</td>\n",
       "      <td>0.0</td>\n",
       "      <td>0.0</td>\n",
       "      <td>1.0</td>\n",
       "      <td>2017-11-28</td>\n",
       "    </tr>\n",
       "    <tr>\n",
       "      <th>83925</th>\n",
       "      <td>2020-08-12 17:56:19</td>\n",
       "      <td>review specifically coffee delivery service us...</td>\n",
       "      <td>10.0</td>\n",
       "      <td>2.0</td>\n",
       "      <td>11.0</td>\n",
       "      <td>23</td>\n",
       "      <td>0.0</td>\n",
       "      <td>0.0</td>\n",
       "      <td>1.0</td>\n",
       "      <td>2020-08-12</td>\n",
       "    </tr>\n",
       "  </tbody>\n",
       "</table>\n",
       "<p>83926 rows × 10 columns</p>\n",
       "</div>"
      ],
      "text/plain": [
       "                      date                                               text  \\\n",
       "0      2020-05-12 21:18:10  leaving room go left sticker shock confronted ...   \n",
       "1      2012-04-03 05:28:46  time general food fine great service always pr...   \n",
       "2      2020-02-21 01:48:36  pork belly entree yummy done right fish chip g...   \n",
       "3      2017-12-29 20:35:49  walked store customer least two staff member w...   \n",
       "4      2019-04-27 14:17:17  sat min lobby nobody work call someone phone s...   \n",
       "...                    ...                                                ...   \n",
       "83921  2018-02-07 22:33:56  copacabana cuba caf bookmarked age finally got...   \n",
       "83922  2021-01-27 01:49:00  informative workshop live alone always find si...   \n",
       "83923  2018-12-22 03:57:23  stopped quickly twice stay hilton obviously co...   \n",
       "83924  2017-11-28 00:25:04  really enjoy visiting location specially since...   \n",
       "83925  2020-08-12 17:56:19  review specifically coffee delivery service us...   \n",
       "\n",
       "       useful  funny  cool  sum_ufc  useful_label  funny_label  cool_label  \\\n",
       "0         0.0    0.0   0.0        0           0.0          0.0         0.0   \n",
       "1         0.0    0.0   0.0        0           0.0          0.0         0.0   \n",
       "2         0.0    0.0   0.0        0           0.0          0.0         0.0   \n",
       "3         0.0    0.0   0.0        0           0.0          0.0         0.0   \n",
       "4         0.0    0.0   0.0        0           0.0          0.0         0.0   \n",
       "...       ...    ...   ...      ...           ...          ...         ...   \n",
       "83921     9.0    6.0  11.0       26           0.0          0.0         1.0   \n",
       "83922    10.0    1.0  11.0       22           0.0          0.0         1.0   \n",
       "83923     8.0    1.0  11.0       20           0.0          0.0         1.0   \n",
       "83924    10.0    9.0  13.0       32           0.0          0.0         1.0   \n",
       "83925    10.0    2.0  11.0       23           0.0          0.0         1.0   \n",
       "\n",
       "         date_ymd  \n",
       "0      2020-05-12  \n",
       "1      2012-04-03  \n",
       "2      2020-02-21  \n",
       "3      2017-12-29  \n",
       "4      2019-04-27  \n",
       "...           ...  \n",
       "83921  2018-02-07  \n",
       "83922  2021-01-27  \n",
       "83923  2018-12-22  \n",
       "83924  2017-11-28  \n",
       "83925  2020-08-12  \n",
       "\n",
       "[83926 rows x 10 columns]"
      ]
     },
     "execution_count": 16,
     "metadata": {},
     "output_type": "execute_result"
    }
   ],
   "source": [
    "main_data"
   ]
  },
  {
   "cell_type": "code",
   "execution_count": 17,
   "metadata": {},
   "outputs": [],
   "source": [
    "date_format = \"%Y-%m-%d\""
   ]
  },
  {
   "cell_type": "code",
   "execution_count": 18,
   "metadata": {},
   "outputs": [],
   "source": [
    "days=[]\n",
    "for k in date_list:\n",
    "    a = datetime.strptime(k, date_format)\n",
    "    b = datetime.strptime('2021-02-16', date_format)\n",
    "    delta=b-a\n",
    "    days.append(delta.days)"
   ]
  },
  {
   "cell_type": "code",
   "execution_count": 19,
   "metadata": {},
   "outputs": [
    {
     "name": "stderr",
     "output_type": "stream",
     "text": [
      "<ipython-input-19-65ee3a430508>:1: SettingWithCopyWarning: \n",
      "A value is trying to be set on a copy of a slice from a DataFrame.\n",
      "Try using .loc[row_indexer,col_indexer] = value instead\n",
      "\n",
      "See the caveats in the documentation: https://pandas.pydata.org/pandas-docs/stable/user_guide/indexing.html#returning-a-view-versus-a-copy\n",
      "  main_data[\"days\"]=days\n"
     ]
    }
   ],
   "source": [
    "main_data[\"days\"]=days"
   ]
  },
  {
   "cell_type": "code",
   "execution_count": 20,
   "metadata": {},
   "outputs": [
    {
     "data": {
      "text/html": [
       "<div>\n",
       "<style scoped>\n",
       "    .dataframe tbody tr th:only-of-type {\n",
       "        vertical-align: middle;\n",
       "    }\n",
       "\n",
       "    .dataframe tbody tr th {\n",
       "        vertical-align: top;\n",
       "    }\n",
       "\n",
       "    .dataframe thead th {\n",
       "        text-align: right;\n",
       "    }\n",
       "</style>\n",
       "<table border=\"1\" class=\"dataframe\">\n",
       "  <thead>\n",
       "    <tr style=\"text-align: right;\">\n",
       "      <th></th>\n",
       "      <th>date</th>\n",
       "      <th>text</th>\n",
       "      <th>useful</th>\n",
       "      <th>funny</th>\n",
       "      <th>cool</th>\n",
       "      <th>sum_ufc</th>\n",
       "      <th>useful_label</th>\n",
       "      <th>funny_label</th>\n",
       "      <th>cool_label</th>\n",
       "      <th>date_ymd</th>\n",
       "      <th>days</th>\n",
       "    </tr>\n",
       "  </thead>\n",
       "  <tbody>\n",
       "    <tr>\n",
       "      <th>0</th>\n",
       "      <td>2020-05-12 21:18:10</td>\n",
       "      <td>leaving room go left sticker shock confronted ...</td>\n",
       "      <td>0.0</td>\n",
       "      <td>0.0</td>\n",
       "      <td>0.0</td>\n",
       "      <td>0</td>\n",
       "      <td>0.0</td>\n",
       "      <td>0.0</td>\n",
       "      <td>0.0</td>\n",
       "      <td>2020-05-12</td>\n",
       "      <td>280</td>\n",
       "    </tr>\n",
       "    <tr>\n",
       "      <th>1</th>\n",
       "      <td>2012-04-03 05:28:46</td>\n",
       "      <td>time general food fine great service always pr...</td>\n",
       "      <td>0.0</td>\n",
       "      <td>0.0</td>\n",
       "      <td>0.0</td>\n",
       "      <td>0</td>\n",
       "      <td>0.0</td>\n",
       "      <td>0.0</td>\n",
       "      <td>0.0</td>\n",
       "      <td>2012-04-03</td>\n",
       "      <td>3241</td>\n",
       "    </tr>\n",
       "    <tr>\n",
       "      <th>2</th>\n",
       "      <td>2020-02-21 01:48:36</td>\n",
       "      <td>pork belly entree yummy done right fish chip g...</td>\n",
       "      <td>0.0</td>\n",
       "      <td>0.0</td>\n",
       "      <td>0.0</td>\n",
       "      <td>0</td>\n",
       "      <td>0.0</td>\n",
       "      <td>0.0</td>\n",
       "      <td>0.0</td>\n",
       "      <td>2020-02-21</td>\n",
       "      <td>361</td>\n",
       "    </tr>\n",
       "    <tr>\n",
       "      <th>3</th>\n",
       "      <td>2017-12-29 20:35:49</td>\n",
       "      <td>walked store customer least two staff member w...</td>\n",
       "      <td>0.0</td>\n",
       "      <td>0.0</td>\n",
       "      <td>0.0</td>\n",
       "      <td>0</td>\n",
       "      <td>0.0</td>\n",
       "      <td>0.0</td>\n",
       "      <td>0.0</td>\n",
       "      <td>2017-12-29</td>\n",
       "      <td>1145</td>\n",
       "    </tr>\n",
       "    <tr>\n",
       "      <th>4</th>\n",
       "      <td>2019-04-27 14:17:17</td>\n",
       "      <td>sat min lobby nobody work call someone phone s...</td>\n",
       "      <td>0.0</td>\n",
       "      <td>0.0</td>\n",
       "      <td>0.0</td>\n",
       "      <td>0</td>\n",
       "      <td>0.0</td>\n",
       "      <td>0.0</td>\n",
       "      <td>0.0</td>\n",
       "      <td>2019-04-27</td>\n",
       "      <td>661</td>\n",
       "    </tr>\n",
       "    <tr>\n",
       "      <th>...</th>\n",
       "      <td>...</td>\n",
       "      <td>...</td>\n",
       "      <td>...</td>\n",
       "      <td>...</td>\n",
       "      <td>...</td>\n",
       "      <td>...</td>\n",
       "      <td>...</td>\n",
       "      <td>...</td>\n",
       "      <td>...</td>\n",
       "      <td>...</td>\n",
       "      <td>...</td>\n",
       "    </tr>\n",
       "    <tr>\n",
       "      <th>83921</th>\n",
       "      <td>2018-02-07 22:33:56</td>\n",
       "      <td>copacabana cuba caf bookmarked age finally got...</td>\n",
       "      <td>9.0</td>\n",
       "      <td>6.0</td>\n",
       "      <td>11.0</td>\n",
       "      <td>26</td>\n",
       "      <td>0.0</td>\n",
       "      <td>0.0</td>\n",
       "      <td>1.0</td>\n",
       "      <td>2018-02-07</td>\n",
       "      <td>1105</td>\n",
       "    </tr>\n",
       "    <tr>\n",
       "      <th>83922</th>\n",
       "      <td>2021-01-27 01:49:00</td>\n",
       "      <td>informative workshop live alone always find si...</td>\n",
       "      <td>10.0</td>\n",
       "      <td>1.0</td>\n",
       "      <td>11.0</td>\n",
       "      <td>22</td>\n",
       "      <td>0.0</td>\n",
       "      <td>0.0</td>\n",
       "      <td>1.0</td>\n",
       "      <td>2021-01-27</td>\n",
       "      <td>20</td>\n",
       "    </tr>\n",
       "    <tr>\n",
       "      <th>83923</th>\n",
       "      <td>2018-12-22 03:57:23</td>\n",
       "      <td>stopped quickly twice stay hilton obviously co...</td>\n",
       "      <td>8.0</td>\n",
       "      <td>1.0</td>\n",
       "      <td>11.0</td>\n",
       "      <td>20</td>\n",
       "      <td>0.0</td>\n",
       "      <td>0.0</td>\n",
       "      <td>1.0</td>\n",
       "      <td>2018-12-22</td>\n",
       "      <td>787</td>\n",
       "    </tr>\n",
       "    <tr>\n",
       "      <th>83924</th>\n",
       "      <td>2017-11-28 00:25:04</td>\n",
       "      <td>really enjoy visiting location specially since...</td>\n",
       "      <td>10.0</td>\n",
       "      <td>9.0</td>\n",
       "      <td>13.0</td>\n",
       "      <td>32</td>\n",
       "      <td>0.0</td>\n",
       "      <td>0.0</td>\n",
       "      <td>1.0</td>\n",
       "      <td>2017-11-28</td>\n",
       "      <td>1176</td>\n",
       "    </tr>\n",
       "    <tr>\n",
       "      <th>83925</th>\n",
       "      <td>2020-08-12 17:56:19</td>\n",
       "      <td>review specifically coffee delivery service us...</td>\n",
       "      <td>10.0</td>\n",
       "      <td>2.0</td>\n",
       "      <td>11.0</td>\n",
       "      <td>23</td>\n",
       "      <td>0.0</td>\n",
       "      <td>0.0</td>\n",
       "      <td>1.0</td>\n",
       "      <td>2020-08-12</td>\n",
       "      <td>188</td>\n",
       "    </tr>\n",
       "  </tbody>\n",
       "</table>\n",
       "<p>83926 rows × 11 columns</p>\n",
       "</div>"
      ],
      "text/plain": [
       "                      date                                               text  \\\n",
       "0      2020-05-12 21:18:10  leaving room go left sticker shock confronted ...   \n",
       "1      2012-04-03 05:28:46  time general food fine great service always pr...   \n",
       "2      2020-02-21 01:48:36  pork belly entree yummy done right fish chip g...   \n",
       "3      2017-12-29 20:35:49  walked store customer least two staff member w...   \n",
       "4      2019-04-27 14:17:17  sat min lobby nobody work call someone phone s...   \n",
       "...                    ...                                                ...   \n",
       "83921  2018-02-07 22:33:56  copacabana cuba caf bookmarked age finally got...   \n",
       "83922  2021-01-27 01:49:00  informative workshop live alone always find si...   \n",
       "83923  2018-12-22 03:57:23  stopped quickly twice stay hilton obviously co...   \n",
       "83924  2017-11-28 00:25:04  really enjoy visiting location specially since...   \n",
       "83925  2020-08-12 17:56:19  review specifically coffee delivery service us...   \n",
       "\n",
       "       useful  funny  cool  sum_ufc  useful_label  funny_label  cool_label  \\\n",
       "0         0.0    0.0   0.0        0           0.0          0.0         0.0   \n",
       "1         0.0    0.0   0.0        0           0.0          0.0         0.0   \n",
       "2         0.0    0.0   0.0        0           0.0          0.0         0.0   \n",
       "3         0.0    0.0   0.0        0           0.0          0.0         0.0   \n",
       "4         0.0    0.0   0.0        0           0.0          0.0         0.0   \n",
       "...       ...    ...   ...      ...           ...          ...         ...   \n",
       "83921     9.0    6.0  11.0       26           0.0          0.0         1.0   \n",
       "83922    10.0    1.0  11.0       22           0.0          0.0         1.0   \n",
       "83923     8.0    1.0  11.0       20           0.0          0.0         1.0   \n",
       "83924    10.0    9.0  13.0       32           0.0          0.0         1.0   \n",
       "83925    10.0    2.0  11.0       23           0.0          0.0         1.0   \n",
       "\n",
       "         date_ymd  days  \n",
       "0      2020-05-12   280  \n",
       "1      2012-04-03  3241  \n",
       "2      2020-02-21   361  \n",
       "3      2017-12-29  1145  \n",
       "4      2019-04-27   661  \n",
       "...           ...   ...  \n",
       "83921  2018-02-07  1105  \n",
       "83922  2021-01-27    20  \n",
       "83923  2018-12-22   787  \n",
       "83924  2017-11-28  1176  \n",
       "83925  2020-08-12   188  \n",
       "\n",
       "[83926 rows x 11 columns]"
      ]
     },
     "execution_count": 20,
     "metadata": {},
     "output_type": "execute_result"
    }
   ],
   "source": [
    "main_data"
   ]
  },
  {
   "cell_type": "code",
   "execution_count": 21,
   "metadata": {},
   "outputs": [],
   "source": [
    "import math"
   ]
  },
  {
   "cell_type": "code",
   "execution_count": 22,
   "metadata": {},
   "outputs": [
    {
     "name": "stderr",
     "output_type": "stream",
     "text": [
      "<ipython-input-22-173248caae4a>:1: SettingWithCopyWarning: \n",
      "A value is trying to be set on a copy of a slice from a DataFrame.\n",
      "Try using .loc[row_indexer,col_indexer] = value instead\n",
      "\n",
      "See the caveats in the documentation: https://pandas.pydata.org/pandas-docs/stable/user_guide/indexing.html#returning-a-view-versus-a-copy\n",
      "  main_data[\"hund_days\"]=(main_data[\"days\"]/100).astype(int)\n"
     ]
    }
   ],
   "source": [
    "main_data[\"hund_days\"]=(main_data[\"days\"]/100).astype(int)"
   ]
  },
  {
   "cell_type": "code",
   "execution_count": 23,
   "metadata": {
    "scrolled": true
   },
   "outputs": [
    {
     "data": {
      "text/plain": [
       "<AxesSubplot:xlabel='hund_days', ylabel='useful'>"
      ]
     },
     "execution_count": 23,
     "metadata": {},
     "output_type": "execute_result"
    },
    {
     "data": {
      "image/png": "[encoded data removed]",
      "text/plain": [
       "<Figure size 432x288 with 1 Axes>"
      ]
     },
     "metadata": {
      "needs_background": "light"
     },
     "output_type": "display_data"
    }
   ],
   "source": [
    "sns.boxplot(x=\"hund_days\",y=\"useful\",data=main_data)"
   ]
  },
  {
   "cell_type": "code",
   "execution_count": 24,
   "metadata": {},
   "outputs": [
    {
     "data": {
      "text/plain": [
       "<AxesSubplot:xlabel='hund_days', ylabel='funny'>"
      ]
     },
     "execution_count": 24,
     "metadata": {},
     "output_type": "execute_result"
    },
    {
     "data": {
      "image/png": "[encoded data removed]",
      "text/plain": [
       "<Figure size 432x288 with 1 Axes>"
      ]
     },
     "metadata": {
      "needs_background": "light"
     },
     "output_type": "display_data"
    }
   ],
   "source": [
    "sns.boxplot(x=\"hund_days\",y=\"funny\",data=main_data)"
   ]
  },
  {
   "cell_type": "code",
   "execution_count": 25,
   "metadata": {},
   "outputs": [
    {
     "data": {
      "text/plain": [
       "<AxesSubplot:xlabel='hund_days', ylabel='cool'>"
      ]
     },
     "execution_count": 25,
     "metadata": {},
     "output_type": "execute_result"
    },
    {
     "data": {
      "image/png": "[encoded data removed]",
      "text/plain": [
       "<Figure size 432x288 with 1 Axes>"
      ]
     },
     "metadata": {
      "needs_background": "light"
     },
     "output_type": "display_data"
    }
   ],
   "source": [
    "sns.boxplot(x=\"hund_days\",y=\"cool\",data=main_data)"
   ]
  },
  {
   "cell_type": "code",
   "execution_count": 87,
   "metadata": {},
   "outputs": [],
   "source": [
    "from scipy.stats import zscore\n",
    "z_useful=main_data.groupby([\"hund_days\"]).useful.transform(lambda x : zscore(x,ddof=1))"
   ]
  },
  {
   "cell_type": "code",
   "execution_count": 88,
   "metadata": {},
   "outputs": [],
   "source": [
    "main_data[\"z_useful\"]=z_useful"
   ]
  },
  {
   "cell_type": "code",
   "execution_count": 89,
   "metadata": {},
   "outputs": [
    {
     "data": {
      "text/plain": [
       "<AxesSubplot:xlabel='hund_days', ylabel='z_useful'>"
      ]
     },
     "execution_count": 89,
     "metadata": {},
     "output_type": "execute_result"
    },
    {
     "data": {
      "image/png": "[encoded data removed]",
      "text/plain": [
       "<Figure size 432x288 with 1 Axes>"
      ]
     },
     "metadata": {
      "needs_background": "light"
     },
     "output_type": "display_data"
    }
   ],
   "source": [
    "sns.boxplot(x=\"hund_days\",y=\"z_useful\",data=main_data)"
   ]
  },
  {
   "cell_type": "code",
   "execution_count": 90,
   "metadata": {},
   "outputs": [],
   "source": [
    "z_funny=main_data.groupby([\"hund_days\"]).funny.transform(lambda x : zscore(x,ddof=1))"
   ]
  },
  {
   "cell_type": "code",
   "execution_count": 91,
   "metadata": {},
   "outputs": [],
   "source": [
    "main_data[\"z_funny\"]=z_funny"
   ]
  },
  {
   "cell_type": "code",
   "execution_count": 92,
   "metadata": {},
   "outputs": [
    {
     "data": {
      "text/plain": [
       "<AxesSubplot:xlabel='hund_days', ylabel='z_funny'>"
      ]
     },
     "execution_count": 92,
     "metadata": {},
     "output_type": "execute_result"
    },
    {
     "data": {
      "image/png": "[encoded data removed]",
      "text/plain": [
       "<Figure size 432x288 with 1 Axes>"
      ]
     },
     "metadata": {
      "needs_background": "light"
     },
     "output_type": "display_data"
    }
   ],
   "source": [
    "sns.boxplot(x=\"hund_days\",y=\"z_funny\",data=main_data)"
   ]
  },
  {
   "cell_type": "code",
   "execution_count": 93,
   "metadata": {},
   "outputs": [],
   "source": [
    "z_cool=main_data.groupby([\"hund_days\"]).cool.transform(lambda x : zscore(x,ddof=1))"
   ]
  },
  {
   "cell_type": "code",
   "execution_count": 94,
   "metadata": {},
   "outputs": [],
   "source": [
    "main_data[\"z_cool\"]=z_cool"
   ]
  },
  {
   "cell_type": "code",
   "execution_count": 95,
   "metadata": {},
   "outputs": [
    {
     "data": {
      "text/plain": [
       "<AxesSubplot:xlabel='hund_days', ylabel='z_cool'>"
      ]
     },
     "execution_count": 95,
     "metadata": {},
     "output_type": "execute_result"
    },
    {
     "data": {
      "image/png": "[encoded data removed]",
      "text/plain": [
       "<Figure size 432x288 with 1 Axes>"
      ]
     },
     "metadata": {
      "needs_background": "light"
     },
     "output_type": "display_data"
    }
   ],
   "source": [
    "sns.boxplot(x=\"hund_days\",y=\"z_cool\",data=main_data)"
   ]
  },
  {
   "cell_type": "markdown",
   "metadata": {
    "id": "B1jbrybZ10fh"
   },
   "source": [
    "#Tfidf"
   ]
  },
  {
   "cell_type": "code",
   "execution_count": 96,
   "metadata": {},
   "outputs": [
    {
     "data": {
      "text/plain": [
       "<seaborn.axisgrid.FacetGrid at 0x7fbc03128b20>"
      ]
     },
     "execution_count": 96,
     "metadata": {},
     "output_type": "execute_result"
    },
    {
     "data": {
      "image/png": "[encoded data removed]",
      "text/plain": [
       "<Figure size 360x360 with 1 Axes>"
      ]
     },
     "metadata": {
      "needs_background": "light"
     },
     "output_type": "display_data"
    }
   ],
   "source": [
    "sns.displot(main_data, x=\"z_useful\", kde = True)"
   ]
  },
  {
   "cell_type": "code",
   "execution_count": 97,
   "metadata": {},
   "outputs": [
    {
     "data": {
      "text/plain": [
       "<seaborn.axisgrid.FacetGrid at 0x7fbbf8bae5e0>"
      ]
     },
     "execution_count": 97,
     "metadata": {},
     "output_type": "execute_result"
    },
    {
     "data": {
      "image/png": "[encoded data removed]",
      "text/plain": [
       "<Figure size 360x360 with 1 Axes>"
      ]
     },
     "metadata": {
      "needs_background": "light"
     },
     "output_type": "display_data"
    }
   ],
   "source": [
    "sns.displot(main_data, x=\"z_cool\", kde = True)"
   ]
  },
  {
   "cell_type": "code",
   "execution_count": 98,
   "metadata": {},
   "outputs": [
    {
     "data": {
      "text/plain": [
       "<seaborn.axisgrid.FacetGrid at 0x7fbba14c7af0>"
      ]
     },
     "execution_count": 98,
     "metadata": {},
     "output_type": "execute_result"
    },
    {
     "data": {
      "image/png": "[encoded data removed]",
      "text/plain": [
       "<Figure size 360x360 with 1 Axes>"
      ]
     },
     "metadata": {
      "needs_background": "light"
     },
     "output_type": "display_data"
    }
   ],
   "source": [
    "sns.displot(main_data, x=\"z_funny\", kde = True)"
   ]
  },
  {
   "cell_type": "code",
   "execution_count": 56,
   "metadata": {},
   "outputs": [],
   "source": [
    "training_set=np.load(\"drive-download-20211215T005337Z-001/training_set.npy\",allow_pickle=True)"
   ]
  },
  {
   "cell_type": "code",
   "execution_count": 59,
   "metadata": {},
   "outputs": [],
   "source": [
    "training_set_emd=np.load(\"drive-download-20211215T005337Z-001/training_set_embedding.npy\",allow_pickle=True)"
   ]
  },
  {
   "cell_type": "code",
   "execution_count": 61,
   "metadata": {},
   "outputs": [
    {
     "data": {
      "text/plain": [
       "(67139, 300)"
      ]
     },
     "execution_count": 61,
     "metadata": {},
     "output_type": "execute_result"
    }
   ],
   "source": [
    "training_set_emd.shape"
   ]
  },
  {
   "cell_type": "code",
   "execution_count": 58,
   "metadata": {
    "scrolled": false
   },
   "outputs": [
    {
     "data": {
      "text/plain": [
       "(67140, 8)"
      ]
     },
     "execution_count": 58,
     "metadata": {},
     "output_type": "execute_result"
    }
   ],
   "source": [
    "training_set.shape"
   ]
  },
  {
   "cell_type": "code",
   "execution_count": 62,
   "metadata": {},
   "outputs": [],
   "source": [
    "training_set_df=pd.DataFrame(training_set)"
   ]
  },
  {
   "cell_type": "code",
   "execution_count": 66,
   "metadata": {},
   "outputs": [],
   "source": [
    "training_set_df.columns = [\"text\", \"useful\", \"funny\", \"cool\", \"sum_ufc\", \"useful_label\", \"funny_label\", \"cool_label\"]"
   ]
  },
  {
   "cell_type": "code",
   "execution_count": 67,
   "metadata": {},
   "outputs": [
    {
     "data": {
      "text/html": [
       "<div>\n",
       "<style scoped>\n",
       "    .dataframe tbody tr th:only-of-type {\n",
       "        vertical-align: middle;\n",
       "    }\n",
       "\n",
       "    .dataframe tbody tr th {\n",
       "        vertical-align: top;\n",
       "    }\n",
       "\n",
       "    .dataframe thead th {\n",
       "        text-align: right;\n",
       "    }\n",
       "</style>\n",
       "<table border=\"1\" class=\"dataframe\">\n",
       "  <thead>\n",
       "    <tr style=\"text-align: right;\">\n",
       "      <th></th>\n",
       "      <th>text</th>\n",
       "      <th>useful</th>\n",
       "      <th>funny</th>\n",
       "      <th>cool</th>\n",
       "      <th>sum_ufc</th>\n",
       "      <th>useful_label</th>\n",
       "      <th>funny_label</th>\n",
       "      <th>cool_label</th>\n",
       "    </tr>\n",
       "  </thead>\n",
       "  <tbody>\n",
       "    <tr>\n",
       "      <th>0</th>\n",
       "      <td>mary real story tell captive audience breakfas...</td>\n",
       "      <td>12</td>\n",
       "      <td>3.0</td>\n",
       "      <td>12</td>\n",
       "      <td>27</td>\n",
       "      <td>1.0</td>\n",
       "      <td>0.0</td>\n",
       "      <td>1.0</td>\n",
       "    </tr>\n",
       "    <tr>\n",
       "      <th>1</th>\n",
       "      <td>picture worthy little vietnamesse cafe cum fre...</td>\n",
       "      <td>30</td>\n",
       "      <td>16.0</td>\n",
       "      <td>25</td>\n",
       "      <td>71</td>\n",
       "      <td>1.0</td>\n",
       "      <td>1.0</td>\n",
       "      <td>1.0</td>\n",
       "    </tr>\n",
       "    <tr>\n",
       "      <th>2</th>\n",
       "      <td>continues perform great customer service went ...</td>\n",
       "      <td>12</td>\n",
       "      <td>6.0</td>\n",
       "      <td>9</td>\n",
       "      <td>27</td>\n",
       "      <td>1.0</td>\n",
       "      <td>0.0</td>\n",
       "      <td>0.0</td>\n",
       "    </tr>\n",
       "    <tr>\n",
       "      <th>3</th>\n",
       "      <td>first time went lunch friend know owner servic...</td>\n",
       "      <td>11</td>\n",
       "      <td>0.0</td>\n",
       "      <td>0</td>\n",
       "      <td>11</td>\n",
       "      <td>1.0</td>\n",
       "      <td>0.0</td>\n",
       "      <td>0.0</td>\n",
       "    </tr>\n",
       "    <tr>\n",
       "      <th>4</th>\n",
       "      <td>worked cameron breed team swbc mortgage year r...</td>\n",
       "      <td>0</td>\n",
       "      <td>0.0</td>\n",
       "      <td>0</td>\n",
       "      <td>0</td>\n",
       "      <td>0.0</td>\n",
       "      <td>0.0</td>\n",
       "      <td>0.0</td>\n",
       "    </tr>\n",
       "  </tbody>\n",
       "</table>\n",
       "</div>"
      ],
      "text/plain": [
       "                                                text useful funny cool  \\\n",
       "0  mary real story tell captive audience breakfas...     12   3.0   12   \n",
       "1  picture worthy little vietnamesse cafe cum fre...     30  16.0   25   \n",
       "2  continues perform great customer service went ...     12   6.0    9   \n",
       "3  first time went lunch friend know owner servic...     11   0.0    0   \n",
       "4  worked cameron breed team swbc mortgage year r...      0   0.0    0   \n",
       "\n",
       "  sum_ufc useful_label funny_label cool_label  \n",
       "0      27          1.0         0.0        1.0  \n",
       "1      71          1.0         1.0        1.0  \n",
       "2      27          1.0         0.0        0.0  \n",
       "3      11          1.0         0.0        0.0  \n",
       "4       0          0.0         0.0        0.0  "
      ]
     },
     "execution_count": 67,
     "metadata": {},
     "output_type": "execute_result"
    }
   ],
   "source": [
    "training_set_df.head(5)"
   ]
  },
  {
   "cell_type": "code",
   "execution_count": 99,
   "metadata": {},
   "outputs": [],
   "source": [
    "training_set_z=pd.merge(training_set_df,main_data,on=[\"text\",\"useful\",\"funny\",\"cool\",\"sum_ufc\",\"useful_label\",\"funny_label\",\"cool_label\"],how=\"inner\")"
   ]
  },
  {
   "cell_type": "code",
   "execution_count": 105,
   "metadata": {},
   "outputs": [],
   "source": [
    "training_set_z.to_csv(\"training_set_z_scored.csv\",index=False)"
   ]
  },
  {
   "cell_type": "code",
   "execution_count": 103,
   "metadata": {},
   "outputs": [
    {
     "data": {
      "text/html": [
       "<div>\n",
       "<style scoped>\n",
       "    .dataframe tbody tr th:only-of-type {\n",
       "        vertical-align: middle;\n",
       "    }\n",
       "\n",
       "    .dataframe tbody tr th {\n",
       "        vertical-align: top;\n",
       "    }\n",
       "\n",
       "    .dataframe thead th {\n",
       "        text-align: right;\n",
       "    }\n",
       "</style>\n",
       "<table border=\"1\" class=\"dataframe\">\n",
       "  <thead>\n",
       "    <tr style=\"text-align: right;\">\n",
       "      <th></th>\n",
       "      <th>text</th>\n",
       "      <th>useful</th>\n",
       "      <th>funny</th>\n",
       "      <th>cool</th>\n",
       "      <th>sum_ufc</th>\n",
       "      <th>useful_label</th>\n",
       "      <th>funny_label</th>\n",
       "      <th>cool_label</th>\n",
       "    </tr>\n",
       "  </thead>\n",
       "  <tbody>\n",
       "    <tr>\n",
       "      <th>0</th>\n",
       "      <td>mary real story tell captive audience breakfas...</td>\n",
       "      <td>12</td>\n",
       "      <td>3.0</td>\n",
       "      <td>12</td>\n",
       "      <td>27</td>\n",
       "      <td>1.0</td>\n",
       "      <td>0.0</td>\n",
       "      <td>1.0</td>\n",
       "    </tr>\n",
       "    <tr>\n",
       "      <th>1</th>\n",
       "      <td>picture worthy little vietnamesse cafe cum fre...</td>\n",
       "      <td>30</td>\n",
       "      <td>16.0</td>\n",
       "      <td>25</td>\n",
       "      <td>71</td>\n",
       "      <td>1.0</td>\n",
       "      <td>1.0</td>\n",
       "      <td>1.0</td>\n",
       "    </tr>\n",
       "    <tr>\n",
       "      <th>2</th>\n",
       "      <td>continues perform great customer service went ...</td>\n",
       "      <td>12</td>\n",
       "      <td>6.0</td>\n",
       "      <td>9</td>\n",
       "      <td>27</td>\n",
       "      <td>1.0</td>\n",
       "      <td>0.0</td>\n",
       "      <td>0.0</td>\n",
       "    </tr>\n",
       "    <tr>\n",
       "      <th>3</th>\n",
       "      <td>first time went lunch friend know owner servic...</td>\n",
       "      <td>11</td>\n",
       "      <td>0.0</td>\n",
       "      <td>0</td>\n",
       "      <td>11</td>\n",
       "      <td>1.0</td>\n",
       "      <td>0.0</td>\n",
       "      <td>0.0</td>\n",
       "    </tr>\n",
       "    <tr>\n",
       "      <th>4</th>\n",
       "      <td>worked cameron breed team swbc mortgage year r...</td>\n",
       "      <td>0</td>\n",
       "      <td>0.0</td>\n",
       "      <td>0</td>\n",
       "      <td>0</td>\n",
       "      <td>0.0</td>\n",
       "      <td>0.0</td>\n",
       "      <td>0.0</td>\n",
       "    </tr>\n",
       "    <tr>\n",
       "      <th>...</th>\n",
       "      <td>...</td>\n",
       "      <td>...</td>\n",
       "      <td>...</td>\n",
       "      <td>...</td>\n",
       "      <td>...</td>\n",
       "      <td>...</td>\n",
       "      <td>...</td>\n",
       "      <td>...</td>\n",
       "    </tr>\n",
       "    <tr>\n",
       "      <th>67130</th>\n",
       "      <td>love food particularly white wing bacon wrappe...</td>\n",
       "      <td>0</td>\n",
       "      <td>0.0</td>\n",
       "      <td>0</td>\n",
       "      <td>0</td>\n",
       "      <td>0.0</td>\n",
       "      <td>0.0</td>\n",
       "      <td>0.0</td>\n",
       "    </tr>\n",
       "    <tr>\n",
       "      <th>67131</th>\n",
       "      <td>curious george store entire world spot everyth...</td>\n",
       "      <td>14</td>\n",
       "      <td>11.0</td>\n",
       "      <td>14</td>\n",
       "      <td>39</td>\n",
       "      <td>1.0</td>\n",
       "      <td>1.0</td>\n",
       "      <td>1.0</td>\n",
       "    </tr>\n",
       "    <tr>\n",
       "      <th>67132</th>\n",
       "      <td>honest like place hell happened beyond right f...</td>\n",
       "      <td>3</td>\n",
       "      <td>14.0</td>\n",
       "      <td>4</td>\n",
       "      <td>21</td>\n",
       "      <td>0.0</td>\n",
       "      <td>1.0</td>\n",
       "      <td>0.0</td>\n",
       "    </tr>\n",
       "    <tr>\n",
       "      <th>67133</th>\n",
       "      <td>boy oh boy hate write one ordered pizza dragon...</td>\n",
       "      <td>14</td>\n",
       "      <td>1.0</td>\n",
       "      <td>0</td>\n",
       "      <td>15</td>\n",
       "      <td>1.0</td>\n",
       "      <td>0.0</td>\n",
       "      <td>0.0</td>\n",
       "    </tr>\n",
       "    <tr>\n",
       "      <th>67134</th>\n",
       "      <td>get visit nike employee store per year always ...</td>\n",
       "      <td>12</td>\n",
       "      <td>8.0</td>\n",
       "      <td>8</td>\n",
       "      <td>28</td>\n",
       "      <td>1.0</td>\n",
       "      <td>0.0</td>\n",
       "      <td>0.0</td>\n",
       "    </tr>\n",
       "  </tbody>\n",
       "</table>\n",
       "<p>67135 rows × 8 columns</p>\n",
       "</div>"
      ],
      "text/plain": [
       "                                                    text useful funny cool  \\\n",
       "0      mary real story tell captive audience breakfas...     12   3.0   12   \n",
       "1      picture worthy little vietnamesse cafe cum fre...     30  16.0   25   \n",
       "2      continues perform great customer service went ...     12   6.0    9   \n",
       "3      first time went lunch friend know owner servic...     11   0.0    0   \n",
       "4      worked cameron breed team swbc mortgage year r...      0   0.0    0   \n",
       "...                                                  ...    ...   ...  ...   \n",
       "67130  love food particularly white wing bacon wrappe...      0   0.0    0   \n",
       "67131  curious george store entire world spot everyth...     14  11.0   14   \n",
       "67132  honest like place hell happened beyond right f...      3  14.0    4   \n",
       "67133  boy oh boy hate write one ordered pizza dragon...     14   1.0    0   \n",
       "67134  get visit nike employee store per year always ...     12   8.0    8   \n",
       "\n",
       "      sum_ufc useful_label funny_label cool_label  \n",
       "0          27          1.0         0.0        1.0  \n",
       "1          71          1.0         1.0        1.0  \n",
       "2          27          1.0         0.0        0.0  \n",
       "3          11          1.0         0.0        0.0  \n",
       "4           0          0.0         0.0        0.0  \n",
       "...       ...          ...         ...        ...  \n",
       "67130       0          0.0         0.0        0.0  \n",
       "67131      39          1.0         1.0        1.0  \n",
       "67132      21          0.0         1.0        0.0  \n",
       "67133      15          1.0         0.0        0.0  \n",
       "67134      28          1.0         0.0        0.0  \n",
       "\n",
       "[67135 rows x 8 columns]"
      ]
     },
     "execution_count": 103,
     "metadata": {},
     "output_type": "execute_result"
    }
   ],
   "source": [
    "training_set_df.head(-5)"
   ]
  },
  {
   "cell_type": "code",
   "execution_count": 85,
   "metadata": {},
   "outputs": [],
   "source": [
    "training_set_embed=np.load(\"drive-download-20211215T005337Z-001/training_set_embedding.npy\")"
   ]
  },
  {
   "cell_type": "code",
   "execution_count": 86,
   "metadata": {},
   "outputs": [
    {
     "data": {
      "text/plain": [
       "array([[-0.00061366,  0.02215505, -0.01523598, ..., -0.06584875,\n",
       "         0.03727447,  0.02226501],\n",
       "       [-0.04374349,  0.06397582,  0.03362274, ..., -0.04946449,\n",
       "         0.03756835,  0.05080606],\n",
       "       [-0.01827077,  0.04055838,  0.01014103, ..., -0.08767146,\n",
       "         0.08182389,  0.00133126],\n",
       "       ...,\n",
       "       [-0.05036324,  0.04932283,  0.00205201, ..., -0.05755736,\n",
       "         0.00801046,  0.05948037],\n",
       "       [ 0.02162749,  0.03713489, -0.01989536, ..., -0.01439885,\n",
       "         0.05333841, -0.02765577],\n",
       "       [ 0.05263785,  0.07477316,  0.02050613, ..., -0.03220438,\n",
       "         0.0250512 , -0.01114784]], dtype=float32)"
      ]
     },
     "execution_count": 86,
     "metadata": {},
     "output_type": "execute_result"
    }
   ],
   "source": [
    "training_set_embed"
   ]
  },
  {
   "cell_type": "code",
   "execution_count": 159,
   "metadata": {
    "id": "4xnPlX974BBY"
   },
   "outputs": [],
   "source": [
    "# randomly select 80% data as training set, 20% as testing data\n",
    "training_set ,testing_set = train_test_split(main_data,test_size=0.2)"
   ]
  },
  {
   "cell_type": "code",
   "execution_count": 106,
   "metadata": {},
   "outputs": [],
   "source": [
    "testing_set=np.load(\"drive-download-20211215T005337Z-001/testing_set.npy\",allow_pickle=True)"
   ]
  },
  {
   "cell_type": "code",
   "execution_count": 107,
   "metadata": {},
   "outputs": [],
   "source": [
    "testing_set_df=pd.DataFrame(testing_set)"
   ]
  },
  {
   "cell_type": "code",
   "execution_count": 108,
   "metadata": {},
   "outputs": [],
   "source": [
    "testing_set_df.columns = [\"text\", \"useful\", \"funny\", \"cool\", \"sum_ufc\", \"useful_label\", \"funny_label\", \"cool_label\"]"
   ]
  },
  {
   "cell_type": "code",
   "execution_count": 109,
   "metadata": {},
   "outputs": [],
   "source": [
    "testing_set_z=pd.merge(testing_set_df,main_data,on=[\"text\",\"useful\",\"funny\",\"cool\",\"sum_ufc\",\"useful_label\",\"funny_label\",\"cool_label\"],how=\"inner\")"
   ]
  },
  {
   "cell_type": "code",
   "execution_count": 110,
   "metadata": {},
   "outputs": [],
   "source": [
    "testing_set_z.to_csv(\"testing_set_z_scored.csv\",index=False)"
   ]
  },
  {
   "cell_type": "code",
   "execution_count": null,
   "metadata": {},
   "outputs": [],
   "source": []
  },
  {
   "cell_type": "code",
   "execution_count": 158,
   "metadata": {
    "scrolled": true
   },
   "outputs": [
    {
     "data": {
      "text/html": [
       "<div>\n",
       "<style scoped>\n",
       "    .dataframe tbody tr th:only-of-type {\n",
       "        vertical-align: middle;\n",
       "    }\n",
       "\n",
       "    .dataframe tbody tr th {\n",
       "        vertical-align: top;\n",
       "    }\n",
       "\n",
       "    .dataframe thead th {\n",
       "        text-align: right;\n",
       "    }\n",
       "</style>\n",
       "<table border=\"1\" class=\"dataframe\">\n",
       "  <thead>\n",
       "    <tr style=\"text-align: right;\">\n",
       "      <th></th>\n",
       "      <th>date</th>\n",
       "      <th>text</th>\n",
       "      <th>useful</th>\n",
       "      <th>funny</th>\n",
       "      <th>cool</th>\n",
       "      <th>sum_ufc</th>\n",
       "      <th>useful_label</th>\n",
       "      <th>funny_label</th>\n",
       "      <th>cool_label</th>\n",
       "      <th>date_ymd</th>\n",
       "      <th>days</th>\n",
       "      <th>hund_days</th>\n",
       "      <th>z_useful</th>\n",
       "      <th>z_funny</th>\n",
       "      <th>z_cool</th>\n",
       "    </tr>\n",
       "  </thead>\n",
       "  <tbody>\n",
       "    <tr>\n",
       "      <th>0</th>\n",
       "      <td>2020-05-12 21:18:10</td>\n",
       "      <td>leaving room go left sticker shock confronted ...</td>\n",
       "      <td>0.0</td>\n",
       "      <td>0.0</td>\n",
       "      <td>0.0</td>\n",
       "      <td>0</td>\n",
       "      <td>0.0</td>\n",
       "      <td>0.0</td>\n",
       "      <td>0.0</td>\n",
       "      <td>2020-05-12</td>\n",
       "      <td>280</td>\n",
       "      <td>2</td>\n",
       "      <td>-1.554070</td>\n",
       "      <td>-1.067502</td>\n",
       "      <td>-1.361786</td>\n",
       "    </tr>\n",
       "    <tr>\n",
       "      <th>1</th>\n",
       "      <td>2012-04-03 05:28:46</td>\n",
       "      <td>time general food fine great service always pr...</td>\n",
       "      <td>0.0</td>\n",
       "      <td>0.0</td>\n",
       "      <td>0.0</td>\n",
       "      <td>0</td>\n",
       "      <td>0.0</td>\n",
       "      <td>0.0</td>\n",
       "      <td>0.0</td>\n",
       "      <td>2012-04-03</td>\n",
       "      <td>3241</td>\n",
       "      <td>32</td>\n",
       "      <td>-1.622739</td>\n",
       "      <td>-1.128261</td>\n",
       "      <td>-0.945291</td>\n",
       "    </tr>\n",
       "    <tr>\n",
       "      <th>2</th>\n",
       "      <td>2020-02-21 01:48:36</td>\n",
       "      <td>pork belly entree yummy done right fish chip g...</td>\n",
       "      <td>0.0</td>\n",
       "      <td>0.0</td>\n",
       "      <td>0.0</td>\n",
       "      <td>0</td>\n",
       "      <td>0.0</td>\n",
       "      <td>0.0</td>\n",
       "      <td>0.0</td>\n",
       "      <td>2020-02-21</td>\n",
       "      <td>361</td>\n",
       "      <td>3</td>\n",
       "      <td>-1.717537</td>\n",
       "      <td>-1.186895</td>\n",
       "      <td>-1.487705</td>\n",
       "    </tr>\n",
       "    <tr>\n",
       "      <th>3</th>\n",
       "      <td>2017-12-29 20:35:49</td>\n",
       "      <td>walked store customer least two staff member w...</td>\n",
       "      <td>0.0</td>\n",
       "      <td>0.0</td>\n",
       "      <td>0.0</td>\n",
       "      <td>0</td>\n",
       "      <td>0.0</td>\n",
       "      <td>0.0</td>\n",
       "      <td>0.0</td>\n",
       "      <td>2017-12-29</td>\n",
       "      <td>1145</td>\n",
       "      <td>11</td>\n",
       "      <td>-1.689743</td>\n",
       "      <td>-1.111349</td>\n",
       "      <td>-1.283245</td>\n",
       "    </tr>\n",
       "    <tr>\n",
       "      <th>4</th>\n",
       "      <td>2019-04-27 14:17:17</td>\n",
       "      <td>sat min lobby nobody work call someone phone s...</td>\n",
       "      <td>0.0</td>\n",
       "      <td>0.0</td>\n",
       "      <td>0.0</td>\n",
       "      <td>0</td>\n",
       "      <td>0.0</td>\n",
       "      <td>0.0</td>\n",
       "      <td>0.0</td>\n",
       "      <td>2019-04-27</td>\n",
       "      <td>661</td>\n",
       "      <td>6</td>\n",
       "      <td>-1.471104</td>\n",
       "      <td>-1.029794</td>\n",
       "      <td>-1.244533</td>\n",
       "    </tr>\n",
       "  </tbody>\n",
       "</table>\n",
       "</div>"
      ],
      "text/plain": [
       "                  date                                               text  \\\n",
       "0  2020-05-12 21:18:10  leaving room go left sticker shock confronted ...   \n",
       "1  2012-04-03 05:28:46  time general food fine great service always pr...   \n",
       "2  2020-02-21 01:48:36  pork belly entree yummy done right fish chip g...   \n",
       "3  2017-12-29 20:35:49  walked store customer least two staff member w...   \n",
       "4  2019-04-27 14:17:17  sat min lobby nobody work call someone phone s...   \n",
       "\n",
       "   useful  funny  cool  sum_ufc  useful_label  funny_label  cool_label  \\\n",
       "0     0.0    0.0   0.0        0           0.0          0.0         0.0   \n",
       "1     0.0    0.0   0.0        0           0.0          0.0         0.0   \n",
       "2     0.0    0.0   0.0        0           0.0          0.0         0.0   \n",
       "3     0.0    0.0   0.0        0           0.0          0.0         0.0   \n",
       "4     0.0    0.0   0.0        0           0.0          0.0         0.0   \n",
       "\n",
       "     date_ymd  days  hund_days  z_useful   z_funny    z_cool  \n",
       "0  2020-05-12   280          2 -1.554070 -1.067502 -1.361786  \n",
       "1  2012-04-03  3241         32 -1.622739 -1.128261 -0.945291  \n",
       "2  2020-02-21   361          3 -1.717537 -1.186895 -1.487705  \n",
       "3  2017-12-29  1145         11 -1.689743 -1.111349 -1.283245  \n",
       "4  2019-04-27   661          6 -1.471104 -1.029794 -1.244533  "
      ]
     },
     "execution_count": 158,
     "metadata": {},
     "output_type": "execute_result"
    }
   ],
   "source": [
    "main_data.head(5)"
   ]
  },
  {
   "cell_type": "code",
   "execution_count": 157,
   "metadata": {},
   "outputs": [],
   "source": [
    "main_data.drop(columns=[\"norm_useful\"],inplace=True)"
   ]
  },
  {
   "cell_type": "code",
   "execution_count": 160,
   "metadata": {
    "id": "repHTxCwynHo"
   },
   "outputs": [],
   "source": [
    "\n",
    "tfidf = TfidfVectorizer(max_features = 3000)\n",
    "training_set_tfidf = tfidf.fit_transform(training_set['text'].values.tolist())\n",
    "testing_set_tfidf = tfidf.transform(testing_set['text'].values.tolist())"
   ]
  }
 ],
 "metadata": {
  "accelerator": "GPU",
  "colab": {
   "collapsed_sections": [],
   "name": "NLP_final.ipynb",
   "provenance": []
  },
  "kernelspec": {
   "display_name": "Python 3",
   "language": "python",
   "name": "python3"
  },
  "language_info": {
   "codemirror_mode": {
    "name": "ipython",
    "version": 3
   },
   "file_extension": ".py",
   "mimetype": "text/x-python",
   "name": "python",
   "nbconvert_exporter": "python",
   "pygments_lexer": "ipython3",
   "version": "3.8.8"
  }
 },
 "nbformat": 4,
 "nbformat_minor": 1
}
