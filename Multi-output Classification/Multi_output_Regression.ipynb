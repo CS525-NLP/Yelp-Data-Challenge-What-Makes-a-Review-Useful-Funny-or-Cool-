{
  "nbformat": 4,
  "nbformat_minor": 0,
  "metadata": {
    "colab": {
      "name": "Multi-output Regression.ipynb",
      "provenance": [],
      "collapsed_sections": []
    },
    "kernelspec": {
      "name": "python3",
      "display_name": "Python 3"
    },
    "language_info": {
      "name": "python"
    }
  },
  "cells": [
    {
      "cell_type": "code",
      "source": [
        "!pip install transformers"
      ],
      "metadata": {
        "colab": {
          "base_uri": "https://localhost:8080/"
        },
        "id": "odjajj9Moi12",
        "outputId": "48cc9f3a-06af-4ef7-d8b7-f5e1e3dadd95"
      },
      "execution_count": null,
      "outputs": [
        {
          "output_type": "stream",
          "name": "stdout",
          "text": [
            "Collecting transformers\n",
            "  Downloading transformers-4.13.0-py3-none-any.whl (3.3 MB)\n",
            "\u001b[K     |████████████████████████████████| 3.3 MB 5.1 MB/s \n",
            "\u001b[?25hRequirement already satisfied: tqdm>=4.27 in /usr/local/lib/python3.7/dist-packages (from transformers) (4.62.3)\n",
            "Requirement already satisfied: importlib-metadata in /usr/local/lib/python3.7/dist-packages (from transformers) (4.8.2)\n",
            "Collecting sacremoses\n",
            "  Downloading sacremoses-0.0.46-py3-none-any.whl (895 kB)\n",
            "\u001b[K     |████████████████████████████████| 895 kB 26.1 MB/s \n",
            "\u001b[?25hRequirement already satisfied: filelock in /usr/local/lib/python3.7/dist-packages (from transformers) (3.4.0)\n",
            "Requirement already satisfied: packaging>=20.0 in /usr/local/lib/python3.7/dist-packages (from transformers) (21.3)\n",
            "Collecting pyyaml>=5.1\n",
            "  Downloading PyYAML-6.0-cp37-cp37m-manylinux_2_5_x86_64.manylinux1_x86_64.manylinux_2_12_x86_64.manylinux2010_x86_64.whl (596 kB)\n",
            "\u001b[K     |████████████████████████████████| 596 kB 34.2 MB/s \n",
            "\u001b[?25hCollecting tokenizers<0.11,>=0.10.1\n",
            "  Downloading tokenizers-0.10.3-cp37-cp37m-manylinux_2_5_x86_64.manylinux1_x86_64.manylinux_2_12_x86_64.manylinux2010_x86_64.whl (3.3 MB)\n",
            "\u001b[K     |████████████████████████████████| 3.3 MB 28.8 MB/s \n",
            "\u001b[?25hRequirement already satisfied: numpy>=1.17 in /usr/local/lib/python3.7/dist-packages (from transformers) (1.19.5)\n",
            "Collecting huggingface-hub<1.0,>=0.1.0\n",
            "  Downloading huggingface_hub-0.2.1-py3-none-any.whl (61 kB)\n",
            "\u001b[K     |████████████████████████████████| 61 kB 443 kB/s \n",
            "\u001b[?25hRequirement already satisfied: regex!=2019.12.17 in /usr/local/lib/python3.7/dist-packages (from transformers) (2019.12.20)\n",
            "Requirement already satisfied: requests in /usr/local/lib/python3.7/dist-packages (from transformers) (2.23.0)\n",
            "Requirement already satisfied: typing-extensions>=3.7.4.3 in /usr/local/lib/python3.7/dist-packages (from huggingface-hub<1.0,>=0.1.0->transformers) (3.10.0.2)\n",
            "Requirement already satisfied: pyparsing!=3.0.5,>=2.0.2 in /usr/local/lib/python3.7/dist-packages (from packaging>=20.0->transformers) (3.0.6)\n",
            "Requirement already satisfied: zipp>=0.5 in /usr/local/lib/python3.7/dist-packages (from importlib-metadata->transformers) (3.6.0)\n",
            "Requirement already satisfied: idna<3,>=2.5 in /usr/local/lib/python3.7/dist-packages (from requests->transformers) (2.10)\n",
            "Requirement already satisfied: urllib3!=1.25.0,!=1.25.1,<1.26,>=1.21.1 in /usr/local/lib/python3.7/dist-packages (from requests->transformers) (1.24.3)\n",
            "Requirement already satisfied: certifi>=2017.4.17 in /usr/local/lib/python3.7/dist-packages (from requests->transformers) (2021.10.8)\n",
            "Requirement already satisfied: chardet<4,>=3.0.2 in /usr/local/lib/python3.7/dist-packages (from requests->transformers) (3.0.4)\n",
            "Requirement already satisfied: click in /usr/local/lib/python3.7/dist-packages (from sacremoses->transformers) (7.1.2)\n",
            "Requirement already satisfied: six in /usr/local/lib/python3.7/dist-packages (from sacremoses->transformers) (1.15.0)\n",
            "Requirement already satisfied: joblib in /usr/local/lib/python3.7/dist-packages (from sacremoses->transformers) (1.1.0)\n",
            "Installing collected packages: pyyaml, tokenizers, sacremoses, huggingface-hub, transformers\n",
            "  Attempting uninstall: pyyaml\n",
            "    Found existing installation: PyYAML 3.13\n",
            "    Uninstalling PyYAML-3.13:\n",
            "      Successfully uninstalled PyYAML-3.13\n",
            "Successfully installed huggingface-hub-0.2.1 pyyaml-6.0 sacremoses-0.0.46 tokenizers-0.10.3 transformers-4.13.0\n"
          ]
        }
      ]
    },
    {
      "cell_type": "markdown",
      "source": [
        "### Data Loading"
      ],
      "metadata": {
        "id": "UqcNwDSLVAhU"
      }
    },
    {
      "cell_type": "code",
      "source": [
        "import pandas as pd\n",
        "import numpy as np\n",
        "import torch\n",
        "from transformers.file_utils import is_tf_available, is_torch_available, is_torch_tpu_available\n",
        "from transformers import BertTokenizerFast, BertForSequenceClassification\n",
        "from nltk.stem import WordNetLemmatizer\n",
        "from nltk.tokenize import word_tokenize\n",
        "from sklearn.feature_extraction.text import TfidfVectorizer\n",
        "import random\n",
        "from sklearn.model_selection import train_test_split\n",
        "import seaborn as sns\n",
        "import matplotlib.pyplot as plt\n",
        "import re\n",
        "import nltk\n",
        "from sklearn.preprocessing import LabelBinarizer\n",
        "from nltk.corpus import stopwords\n",
        "from nltk.stem.porter import PorterStemmer\n",
        "from nltk.tokenize import word_tokenize, sent_tokenize\n",
        "import string\n",
        "import gensim\n",
        "import gensim.downloader as gensim_api\n",
        "from sklearn.model_selection import train_test_split\n"
      ],
      "metadata": {
        "id": "MRDAZU8tVbA3"
      },
      "execution_count": null,
      "outputs": []
    },
    {
      "cell_type": "code",
      "execution_count": null,
      "metadata": {
        "id": "A82nZUIUTM7j"
      },
      "outputs": [],
      "source": [
        "# normalized data\n",
        "train_score = pd.read_csv('/content/drive/MyDrive/Colab Notebooks/data/nlp/preprocessed_data/training_set_z_scored.csv')\n",
        "test_score = pd.read_csv('/content/drive/MyDrive/Colab Notebooks/data/nlp/preprocessed_data/testing_set_z_scored.csv')"
      ]
    },
    {
      "cell_type": "code",
      "source": [
        "train_score = train_score.sample(frac=0.2, random_state=6860)\n",
        "test_score = train_score.sample(frac=0.2, random_state=6860)"
      ],
      "metadata": {
        "id": "lMWfGPp5h7N9"
      },
      "execution_count": null,
      "outputs": []
    },
    {
      "cell_type": "code",
      "source": [
        "print(test_score.head())\n",
        "print(train_score.head())\n",
        "print(test_score.shape)\n",
        "print(train_score.shape)"
      ],
      "metadata": {
        "colab": {
          "base_uri": "https://localhost:8080/"
        },
        "id": "twvDM0SLV9sU",
        "outputId": "e3bab8f5-e21c-472c-f537-855b5d3769d8"
      },
      "execution_count": null,
      "outputs": [
        {
          "output_type": "stream",
          "name": "stdout",
          "text": [
            "                                                    text  ...    z_cool\n",
            "38563  portland friend gorgeous chinese garden lan su...  ...  0.059461\n",
            "47306  rating food beverage star rating business prac...  ... -0.329278\n",
            "50529  firm really piece work guardian sister law nev...  ... -0.781092\n",
            "28179  place absolute armpit generous fill rental car...  ... -0.178404\n",
            "56032  one best escape room ever done currently one e...  ...  0.294136\n",
            "\n",
            "[5 rows x 15 columns]\n",
            "                                                    text  ...    z_cool\n",
            "54564  ok pop lock debacle still time show work party...  ...  0.931122\n",
            "56408  great park right next max stop named lot grass...  ...  0.991397\n",
            "12671  never visiting salon haircut jessica believe h...  ... -1.255651\n",
            "66352  finally got visit favorite guitar store visiti...  ...  1.525999\n",
            "49561  place important enough like make sure set asid...  ...  1.152092\n",
            "\n",
            "[5 rows x 15 columns]\n",
            "(2686, 15)\n",
            "(13428, 15)\n"
          ]
        }
      ]
    },
    {
      "cell_type": "code",
      "source": [
        "print(test_score['z_cool'])"
      ],
      "metadata": {
        "colab": {
          "base_uri": "https://localhost:8080/"
        },
        "id": "aDLNGA5Qbu_7",
        "outputId": "a20a4246-371b-4fa1-cbc1-9dfe1ffb4f4f"
      },
      "execution_count": null,
      "outputs": [
        {
          "output_type": "stream",
          "name": "stdout",
          "text": [
            "38563    0.059461\n",
            "47306   -0.329278\n",
            "50529   -0.781092\n",
            "28179   -0.178404\n",
            "56032    0.294136\n",
            "           ...   \n",
            "40895   -1.279439\n",
            "7523    -0.103538\n",
            "14076   -1.487705\n",
            "18138    0.328899\n",
            "30593   -0.539472\n",
            "Name: z_cool, Length: 2686, dtype: float64\n"
          ]
        }
      ]
    },
    {
      "cell_type": "code",
      "source": [
        "print(type(train_score))\n",
        "print(train_score.iloc[0])"
      ],
      "metadata": {
        "colab": {
          "base_uri": "https://localhost:8080/"
        },
        "id": "_SsTsDArjRXa",
        "outputId": "ab540c76-08a0-4569-d684-0e16b7c07eb0"
      },
      "execution_count": null,
      "outputs": [
        {
          "output_type": "stream",
          "name": "stdout",
          "text": [
            "<class 'pandas.core.frame.DataFrame'>\n",
            "text            ok pop lock debacle still time show work party...\n",
            "useful                                                         21\n",
            "funny                                                          15\n",
            "cool                                                           14\n",
            "sum_ufc                                                        50\n",
            "useful_label                                                    1\n",
            "funny_label                                                     1\n",
            "cool_label                                                      1\n",
            "date                                          2010-10-22 18:37:31\n",
            "date_ymd                                               2010-10-22\n",
            "days                                                         3770\n",
            "hund_days                                                      37\n",
            "z_useful                                                  1.04596\n",
            "z_funny                                                  0.657965\n",
            "z_cool                                                   0.931122\n",
            "Name: 54564, dtype: object\n"
          ]
        }
      ]
    },
    {
      "cell_type": "code",
      "source": [
        "# train_y \n",
        "cool_train = train_score['z_cool']\n",
        "funny_train = train_score['z_funny']\n",
        "useful_train = train_score['z_useful']\n",
        "#print(cool[0])\n",
        "train_y = []\n",
        "for i,data in train_score.iterrows():\n",
        "  #print(data)\n",
        "  temp = []\n",
        "  temp.append(useful_train[i])\n",
        "  temp.append(funny_train[i])\n",
        "  temp.append(cool_train[i])\n",
        "  #print(\"temp:\", temp)\n",
        "  train_y.append(temp)\n",
        "\n",
        "#print(train_y) "
      ],
      "metadata": {
        "id": "itXgbpKYbfNN"
      },
      "execution_count": null,
      "outputs": []
    },
    {
      "cell_type": "code",
      "source": [
        "# test_y\n",
        "cool_test = test_score['z_cool']\n",
        "funny_test = test_score['z_funny']\n",
        "useful_test = test_score['z_useful']\n",
        "#print(cool[0])\n",
        "test_y = []\n",
        "for i,data in test_score.iterrows():\n",
        "  #print(data)\n",
        "  temp = []\n",
        "  temp.append(useful_test[i])\n",
        "  temp.append(funny_test[i])\n",
        "  temp.append(cool_test[i])\n",
        "  #print(\"temp:\", temp)\n",
        "  test_y.append(temp)"
      ],
      "metadata": {
        "id": "ZprNTHEVeFTH"
      },
      "execution_count": null,
      "outputs": []
    },
    {
      "cell_type": "code",
      "source": [
        "# preprocessing\n",
        "nltk.download('punkt')\n",
        "nltk.download('stopwords')\n",
        "nltk.download('wordnet')\n",
        "stopwords = nltk.corpus.stopwords.words(\"english\")\n",
        "lemmatizer = WordNetLemmatizer()\n",
        "def clean_text(texts):\n",
        "  cleaned_text = texts.copy()\n",
        "  for index, text in enumerate(texts):\n",
        "    text = re.sub(r'@[\\w]*','',str(text))\n",
        "    text = re.sub(r'http[^ ]*','',str(text))\n",
        "    text = re.sub(r'pic.[^ ]*','',str(text))\n",
        "    text = re.sub(r'[^A-Za-z#]',' ',str(text))\n",
        "    \n",
        "    #lowercase\n",
        "    text = text.lower()\n",
        "    #tokenization\n",
        "    text = nltk.word_tokenize(text)\n",
        "    #remove stopwords\n",
        "    text = [word for word in text if word not in stopwords]\n",
        "    # lemmatizing\n",
        "    text = [lemmatizer.lemmatize(word) for word in text]\n",
        "    text = \" \".join(text)\n",
        "    cleaned_text[index] = text\n",
        "  return cleaned_text\n"
      ],
      "metadata": {
        "colab": {
          "base_uri": "https://localhost:8080/"
        },
        "id": "JQdf8o5Mmklf",
        "outputId": "c6071c8b-1503-434a-8277-20f64367d415"
      },
      "execution_count": null,
      "outputs": [
        {
          "output_type": "stream",
          "name": "stdout",
          "text": [
            "[nltk_data] Downloading package punkt to /root/nltk_data...\n",
            "[nltk_data]   Package punkt is already up-to-date!\n",
            "[nltk_data] Downloading package stopwords to /root/nltk_data...\n",
            "[nltk_data]   Package stopwords is already up-to-date!\n",
            "[nltk_data] Downloading package wordnet to /root/nltk_data...\n",
            "[nltk_data]   Package wordnet is already up-to-date!\n"
          ]
        }
      ]
    },
    {
      "cell_type": "code",
      "source": [
        "train_score['text'] = clean_text(train_score['text'])\n",
        "test_score['text'] = clean_text(test_score['text'])"
      ],
      "metadata": {
        "id": "CHH5v027o2zF"
      },
      "execution_count": null,
      "outputs": []
    },
    {
      "cell_type": "code",
      "source": [
        "# tfidf\n",
        "tfidf = TfidfVectorizer(max_features = 3000)\n",
        "training_set_tfidf = tfidf.fit_transform(train_score['text'].values.tolist())\n",
        "testing_set_tfidf = tfidf.transform(test_score['text'].values.tolist())"
      ],
      "metadata": {
        "id": "5GB08UpkrMig"
      },
      "execution_count": null,
      "outputs": []
    },
    {
      "cell_type": "code",
      "source": [
        "# word2vec\n",
        "embeddings = gensim_api.load(\"word2vec-google-news-300\")"
      ],
      "metadata": {
        "id": "sBl1jwzKrxI_"
      },
      "execution_count": null,
      "outputs": []
    },
    {
      "cell_type": "code",
      "source": [
        "# training data embedding\n",
        "docs_vectors = pd.DataFrame()\n",
        "stopwords = nltk.corpus.stopwords.words(\"english\")\n",
        "for doc in train_score[\"text\"]:\n",
        "  temp = pd.DataFrame()\n",
        "  for word in doc.split(\" \"):\n",
        "    if word not in stopwords:\n",
        "      try:\n",
        "        word_vec = embeddings[word]\n",
        "        temp = temp.append(pd.Series(word_vec), ignore_index = True)\n",
        "      except:\n",
        "        pass\n",
        "  doc_vector = temp.mean()\n",
        "  docs_vectors = docs_vectors.append(doc_vector, ignore_index = True)\n",
        "docs_vectors.shape"
      ],
      "metadata": {
        "colab": {
          "base_uri": "https://localhost:8080/"
        },
        "id": "SYmkKCq6sUC1",
        "outputId": "63cdfefb-d2cb-4822-c1a3-af827ca5762b"
      },
      "execution_count": null,
      "outputs": [
        {
          "output_type": "execute_result",
          "data": {
            "text/plain": [
              "(13428, 300)"
            ]
          },
          "metadata": {},
          "execution_count": 68
        }
      ]
    },
    {
      "cell_type": "code",
      "source": [
        "pd.isnull(docs_vectors).sum().sum()\n",
        "docs_vectors = docs_vectors.dropna()\n",
        "training_set_embedding = docs_vectors"
      ],
      "metadata": {
        "id": "NHGFPRBqsy7w"
      },
      "execution_count": null,
      "outputs": []
    },
    {
      "cell_type": "code",
      "source": [
        "# testing data embedding\n",
        "docs_vectors = pd.DataFrame()\n",
        "stopwords = nltk.corpus.stopwords.words(\"english\")\n",
        "for doc in test_score[\"text\"]:\n",
        "  temp = pd.DataFrame()\n",
        "  for word in doc.split(\" \"):\n",
        "    if word not in stopwords:\n",
        "      try:\n",
        "        word_vec = embeddings[word]\n",
        "        temp = temp.append(pd.Series(word_vec), ignore_index = True)\n",
        "      except:\n",
        "        pass\n",
        "  doc_vector = temp.mean()\n",
        "  docs_vectors = docs_vectors.append(doc_vector, ignore_index = True)\n",
        "docs_vectors.shape"
      ],
      "metadata": {
        "colab": {
          "base_uri": "https://localhost:8080/"
        },
        "id": "23OoEi7Xs4oE",
        "outputId": "df879281-de66-43fa-e4ff-a79fb4a65329"
      },
      "execution_count": null,
      "outputs": [
        {
          "output_type": "execute_result",
          "data": {
            "text/plain": [
              "(2686, 300)"
            ]
          },
          "metadata": {},
          "execution_count": 70
        }
      ]
    },
    {
      "cell_type": "code",
      "source": [
        "pd.isnull(docs_vectors).sum().sum()\n",
        "docs_vectors = docs_vectors.dropna()\n",
        "testing_set_embedding = docs_vectors"
      ],
      "metadata": {
        "id": "TChQSJPgtBof"
      },
      "execution_count": null,
      "outputs": []
    },
    {
      "cell_type": "code",
      "source": [
        "print(testing_set_embedding)\n",
        "print(training_set_embedding)"
      ],
      "metadata": {
        "colab": {
          "base_uri": "https://localhost:8080/"
        },
        "id": "wcGgbJ3QpCL1",
        "outputId": "21a7f508-4f12-418c-c9b3-b014d28c71e0"
      },
      "execution_count": null,
      "outputs": [
        {
          "output_type": "stream",
          "name": "stdout",
          "text": [
            "           0         1         2    ...       297       298       299\n",
            "0     0.012474  0.069907  0.002698  ... -0.075924  0.015513  0.032409\n",
            "1     0.010281  0.016415 -0.028916  ... -0.057701 -0.014277 -0.001898\n",
            "2     0.025535  0.056227  0.017870  ... -0.055065  0.040710 -0.044825\n",
            "3     0.019491  0.029193 -0.009717  ... -0.020868 -0.004813 -0.063235\n",
            "4     0.068119  0.017938 -0.059504  ... -0.022243 -0.019073 -0.033648\n",
            "...        ...       ...       ...  ...       ...       ...       ...\n",
            "2681  0.079836  0.009302  0.025647  ...  0.007886  0.018050 -0.056038\n",
            "2682 -0.028491  0.051119 -0.004145  ... -0.040144  0.034955 -0.002637\n",
            "2683  0.033278  0.012047  0.016948  ... -0.061873  0.019973 -0.019648\n",
            "2684 -0.031203  0.044118  0.067716  ... -0.048549  0.055636  0.043456\n",
            "2685  0.000097  0.011524  0.024283  ... -0.038800  0.057804  0.000502\n",
            "\n",
            "[2686 rows x 300 columns]\n",
            "            0         1         2    ...       297       298       299\n",
            "0      0.030559  0.015056 -0.008597  ... -0.054485  0.029443 -0.015333\n",
            "1      0.104524  0.044807 -0.001311  ... -0.066262 -0.024625 -0.047054\n",
            "2      0.000777  0.049567  0.015307  ... -0.009100  0.044673 -0.020944\n",
            "3      0.060136  0.035033 -0.000617  ... -0.051550 -0.003522 -0.008821\n",
            "4      0.004597  0.034016  0.006446  ... -0.041018  0.022811 -0.014587\n",
            "...         ...       ...       ...  ...       ...       ...       ...\n",
            "13423  0.013122  0.017110 -0.031885  ... -0.061221  0.017999 -0.009105\n",
            "13424  0.011204  0.034969  0.015339  ... -0.052648  0.032596 -0.016259\n",
            "13425  0.037207  0.020859  0.031964  ... -0.055350  0.021187 -0.050408\n",
            "13426 -0.040862  0.089356  0.047201  ... -0.068563  0.014046  0.007327\n",
            "13427  0.050616  0.056761 -0.023784  ... -0.106638  0.011018 -0.033942\n",
            "\n",
            "[13428 rows x 300 columns]\n"
          ]
        }
      ]
    },
    {
      "cell_type": "markdown",
      "source": [
        "### Multi-output Regression Algorithm"
      ],
      "metadata": {
        "id": "KaBTXQztfVNI"
      }
    },
    {
      "cell_type": "code",
      "source": [
        "# linear regression\n",
        "from sklearn.linear_model import LinearRegression\n",
        "model_lr_tfidf = LinearRegression()\n",
        "model_lr_w2v = LinearRegression()\n",
        "\n",
        "# tfidf\n",
        "model_lr_tfidf.fit(training_set_tfidf, train_y)\n",
        "# w2v\n",
        "model_lr_w2v.fit(training_set_embedding, train_y)\n",
        "\n",
        "# prediction\n",
        "pred_lr_tfidf = model_lr_tfidf.predict(testing_set_tfidf)\n",
        "pred_lr_w2v = model_lr_w2v.predict(testing_set_embedding)"
      ],
      "metadata": {
        "id": "FuNljlHYfayW"
      },
      "execution_count": null,
      "outputs": []
    },
    {
      "cell_type": "code",
      "source": [
        "# k-nearest\n",
        "from sklearn.neighbors import KNeighborsRegressor\n",
        "model_kn_tfidf = KNeighborsRegressor()\n",
        "model_kn_w2v = KNeighborsRegressor()\n",
        "\n",
        "# tfidf\n",
        "model_kn_tfidf.fit(training_set_tfidf, train_y)\n",
        "# w2v\n",
        "model_kn_w2v.fit(training_set_embedding, train_y)\n",
        "\n",
        "# prediction\n",
        "pred_kn_tfidf = model_kn_tfidf.predict(testing_set_tfidf)\n",
        "pred_kn_w2v = model_kn_w2v.predict(testing_set_embedding)"
      ],
      "metadata": {
        "id": "NF3EquRp3huk"
      },
      "execution_count": null,
      "outputs": []
    },
    {
      "cell_type": "code",
      "source": [
        "# random forest\n",
        "from sklearn.ensemble import RandomForestRegressor\n",
        "model_rf_tfidf = RandomForestRegressor()\n",
        "model_rf_w2v = RandomForestRegressor()\n",
        "\n",
        "# tfidf\n",
        "model_rf_tfidf.fit(training_set_tfidf, train_y)\n",
        "# w2v\n",
        "model_rf_w2v.fit(training_set_embedding, train_y)\n",
        "\n",
        "# prediction\n",
        "pred_rf_tfidf = model_rf_tfidf.predict(testing_set_tfidf)\n",
        "pred_rf_w2v = model_rf_w2v.predict(testing_set_embedding)"
      ],
      "metadata": {
        "id": "KlGMljiy4syt"
      },
      "execution_count": null,
      "outputs": []
    },
    {
      "cell_type": "code",
      "source": [
        "# decision tree\n",
        "from sklearn.tree import DecisionTreeRegressor\n",
        "model_dt_tfidf = DecisionTreeRegressor()\n",
        "model_dt_w2v = DecisionTreeRegressor()\n",
        "\n",
        "# tfidf\n",
        "model_dt_tfidf.fit(training_set_tfidf, train_y)\n",
        "# w2v\n",
        "model_dt_w2v.fit(training_set_embedding, train_y)\n",
        "\n",
        "# prediction\n",
        "pred_dt_tfidf = model_dt_tfidf.predict(testing_set_tfidf)\n",
        "pred_dt_w2v = model_dt_w2v.predict(testing_set_embedding)"
      ],
      "metadata": {
        "id": "wivBeOWP5RFn"
      },
      "execution_count": null,
      "outputs": []
    },
    {
      "cell_type": "markdown",
      "source": [
        "### Wrapper Multi-output Regression Algorithm"
      ],
      "metadata": {
        "id": "PNFg5MxE6MbU"
      }
    },
    {
      "cell_type": "code",
      "source": [
        "# MultiOutputRegressor with LinearSVR\n",
        "from sklearn.multioutput import MultiOutputRegressor\n",
        "from sklearn.svm import LinearSVR\n",
        "model_svr_tfidf = LinearSVR()\n",
        "model_svr_w2v = LinearSVR()\n",
        "\n",
        "# wrapper\n",
        "wrapper_tfidf = MultiOutputRegressor(model_svr_tfidf)\n",
        "wrapper_w2v = MultiOutputRegressor(model_svr_w2v)\n",
        "\n",
        "# tfidf\n",
        "wrapper_tfidf.fit(training_set_tfidf, train_y)\n",
        "# w2v\n",
        "wrapper_w2v.fit(training_set_embedding, train_y)\n",
        "\n",
        "# prediction\n",
        "pred_svr_tfidf = wrapper_tfidf.predict(testing_set_tfidf)\n",
        "pred_svr_w2v = wrapper_w2v.predict(testing_set_embedding)"
      ],
      "metadata": {
        "id": "bZOx4hHp6Vgz"
      },
      "execution_count": null,
      "outputs": []
    },
    {
      "cell_type": "code",
      "source": [
        "# RegressorChain with LinearSVR\n",
        "from sklearn.multioutput import RegressorChain\n",
        "from sklearn.svm import LinearSVR\n",
        "model_svr_tfidf_rc = LinearSVR()\n",
        "model_svr_w2v_rc = LinearSVR()\n",
        "\n",
        "# wrapper\n",
        "wrapper_tfidf_rc = MultiOutputRegressor(model_svr_tfidf_rc)\n",
        "wrapper_w2v_rc = MultiOutputRegressor(model_svr_w2v_rc)\n",
        "\n",
        "# tfidf\n",
        "wrapper_tfidf_rc.fit(training_set_tfidf, train_y)\n",
        "# w2v\n",
        "wrapper_w2v_rc.fit(training_set_embedding, train_y)\n",
        "\n",
        "# prediction\n",
        "pred_svr_tfidf_rc = wrapper_tfidf_rc.predict(testing_set_tfidf)\n",
        "pred_svr_w2v_rc = wrapper_w2v_rc.predict(testing_set_embedding)"
      ],
      "metadata": {
        "id": "-EDqObJNMCg9"
      },
      "execution_count": null,
      "outputs": []
    },
    {
      "cell_type": "code",
      "source": [
        "print(\"The predicted value example:\", pred_dt_tfidf[1])\n",
        "print(\"The predicted value example:\", pred_lr_tfidf[1])"
      ],
      "metadata": {
        "colab": {
          "base_uri": "https://localhost:8080/"
        },
        "id": "YKkjNKIOEcUJ",
        "outputId": "38249cb0-0640-4e7e-df2a-bbcfc62c7a1b"
      },
      "execution_count": null,
      "outputs": [
        {
          "output_type": "stream",
          "name": "stdout",
          "text": [
            "The predicted value example: [-0.2829669  -0.49124917 -0.32927846]\n",
            "The predicted value example: [ 0.35266187 -0.35259518 -0.16744851]\n"
          ]
        }
      ]
    },
    {
      "cell_type": "code",
      "source": [
        "print(\"The actual value example:\", test_y[1])"
      ],
      "metadata": {
        "colab": {
          "base_uri": "https://localhost:8080/"
        },
        "id": "XMo51VKIFfXd",
        "outputId": "757ba707-f961-48dc-cf7b-c4a90c5f8869"
      },
      "execution_count": null,
      "outputs": [
        {
          "output_type": "stream",
          "name": "stdout",
          "text": [
            "The actual value example: [-0.2829669  -0.49124917 -0.32927846]\n"
          ]
        }
      ]
    },
    {
      "cell_type": "markdown",
      "source": [
        "### Evaluation"
      ],
      "metadata": {
        "id": "vQEqzrCN9Hja"
      }
    },
    {
      "cell_type": "code",
      "source": [
        "# MSE/RMSE/MAE/R-SQUARE\n",
        "from sklearn.metrics import mean_squared_error\n",
        "from sklearn.metrics import mean_absolute_error\n",
        "from sklearn.metrics import r2_score\n",
        "\n",
        "# tfidf\n",
        "# linear regression\n",
        "mse_lr_tfidf = mean_squared_error(test_y, pred_lr_tfidf)\n",
        "rmse_lr_tfidf = mse_lr_tfidf ** 0.5\n",
        "mae_lr_tfidf = mean_absolute_error(test_y, pred_lr_tfidf)\n",
        "r2_lr_tfidf = r2_score(test_y, pred_lr_tfidf)\n",
        "# k-nearest\n",
        "mse_kn_tfidf = mean_squared_error(test_y, pred_kn_tfidf)\n",
        "rmse_kn_tfidf = mse_kn_tfidf ** 0.5\n",
        "mae_kn_tfidf = mean_absolute_error(test_y, pred_kn_tfidf)\n",
        "r2_kn_tfidf = r2_score(test_y, pred_kn_tfidf)\n",
        "# random forest\n",
        "mse_rf_tfidf = mean_squared_error(test_y, pred_rf_tfidf)\n",
        "rmse_rf_tfidf = mse_rf_tfidf ** 0.5\n",
        "mae_rf_tfidf = mean_absolute_error(test_y, pred_rf_tfidf)\n",
        "r2_rf_tfidf = r2_score(test_y, pred_rf_tfidf)\n",
        "# decision tree\n",
        "mse_dt_tfidf = mean_squared_error(test_y, pred_dt_tfidf)\n",
        "rmse_dt_tfidf = mse_dt_tfidf ** 0.5\n",
        "mae_dt_tfidf = mean_absolute_error(test_y, pred_dt_tfidf)\n",
        "r2_dt_tfidf = r2_score(test_y, pred_dt_tfidf)\n",
        "# svr - MultiOutputRegressor\n",
        "mse_svr_tfidf = mean_squared_error(test_y, pred_svr_tfidf)\n",
        "rmse_svr_tfidf = mse_svr_tfidf ** 0.5\n",
        "mae_svr_tfidf = mean_absolute_error(test_y, pred_svr_tfidf)\n",
        "r2_svr_tfidf = r2_score(test_y, pred_svr_tfidf)\n",
        "# svr - RegressorChain\n",
        "mse_svr_tfidf_rc = mean_squared_error(test_y, pred_svr_tfidf_rc)\n",
        "rmse_svr_tfidf_rc = mse_svr_tfidf_rc ** 0.5\n",
        "mae_svr_tfidf_rc = mean_absolute_error(test_y, pred_svr_tfidf_rc)\n",
        "r2_svr_tfidf_rc = r2_score(test_y, pred_svr_tfidf_rc)\n",
        "\n",
        "# w2v\n",
        "# linear regression\n",
        "mse_lr_w2v = mean_squared_error(test_y, pred_lr_w2v)\n",
        "rmse_lr_w2v = mse_lr_w2v ** 0.5\n",
        "mae_lr_w2v = mean_absolute_error(test_y, pred_lr_w2v)\n",
        "r2_lr_w2v = r2_score(test_y, pred_lr_w2v)\n",
        "# k-nearest\n",
        "mse_kn_w2v = mean_squared_error(test_y, pred_kn_w2v)\n",
        "rmse_kn_w2v = mse_kn_w2v ** 0.5\n",
        "mae_kn_w2v = mean_absolute_error(test_y, pred_kn_w2v)\n",
        "r2_kn_w2v = r2_score(test_y, pred_kn_w2v)\n",
        "# random forest\n",
        "mse_rf_w2v = mean_squared_error(test_y, pred_rf_w2v)\n",
        "rmse_rf_w2v = mse_rf_w2v ** 0.5\n",
        "mae_rf_w2v = mean_absolute_error(test_y, pred_rf_w2v)\n",
        "r2_rf_w2v = r2_score(test_y, pred_rf_w2v)\n",
        "# decision tree\n",
        "mse_dt_w2v = mean_squared_error(test_y, pred_dt_w2v)\n",
        "rmse_dt_w2v = mse_dt_w2v ** 0.5\n",
        "mae_dt_w2v = mean_absolute_error(test_y, pred_dt_w2v)\n",
        "r2_dt_w2v = r2_score(test_y, pred_dt_w2v)\n",
        "# svr - RegressorChain\n",
        "mse_svr_w2v_rc = mean_squared_error(test_y, pred_svr_w2v_rc)\n",
        "rmse_svr_w2v_rc = mse_svr_w2v_rc ** 0.5\n",
        "mae_svr_w2v_rc = mean_absolute_error(test_y, pred_svr_w2v_rc)\n",
        "r2_svr_w2v_rc = r2_score(test_y, pred_svr_w2v_rc)\n",
        "# svr - MultiOutputRegressor\n",
        "mse_svr_w2v = mean_squared_error(test_y, pred_svr_w2v)\n",
        "rmse_svr_w2v = mse_svr_w2v ** 0.5\n",
        "mae_svr_w2v = mean_absolute_error(test_y, pred_svr_w2v)\n",
        "r2_svr_w2v = r2_score(test_y, pred_svr_w2v)"
      ],
      "metadata": {
        "id": "NeoFEPmA9Mmq"
      },
      "execution_count": null,
      "outputs": []
    },
    {
      "cell_type": "code",
      "source": [
        "# Draw table\n",
        "from prettytable import PrettyTable\n",
        "performance_table = PrettyTable()\n",
        "\n",
        "performance_table.field_names = ['Method', 'MSE', 'RMSE', 'MAE', 'R-Squared']\n",
        "performance_table.add_row(['TFIDF - Linear Regression', \n",
        "                            mse_lr_tfidf,\n",
        "                            rmse_lr_tfidf,\n",
        "                            mae_lr_tfidf,\n",
        "                            r2_lr_tfidf])\n",
        "performance_table.add_row(['Word2Vec - Linear Regression', \n",
        "                            mse_lr_w2v,\n",
        "                            rmse_lr_w2v,\n",
        "                            mae_lr_w2v,\n",
        "                            r2_lr_w2v])\n",
        "performance_table.add_row(['TFIDF - K-Nearest', \n",
        "                            mse_kn_tfidf,\n",
        "                            rmse_kn_tfidf,\n",
        "                            mae_kn_tfidf,\n",
        "                            r2_kn_tfidf])\n",
        "performance_table.add_row(['Word2Vec - K-Nearest', \n",
        "                            mse_kn_w2v,\n",
        "                            rmse_kn_w2v,\n",
        "                            mae_kn_w2v,\n",
        "                            r2_kn_w2v])\n",
        "performance_table.add_row(['TFIDF - Random Forest', \n",
        "                            mse_rf_tfidf,\n",
        "                            rmse_rf_tfidf,\n",
        "                            mae_rf_tfidf,\n",
        "                            r2_rf_tfidf])  \n",
        "performance_table.add_row(['Word2Vec - Random Forest', \n",
        "                            mse_rf_w2v,\n",
        "                            rmse_rf_w2v,\n",
        "                            mae_rf_w2v,\n",
        "                            r2_rf_w2v])\n",
        "performance_table.add_row(['TFIDF - Decision Tree', \n",
        "                            mse_dt_tfidf,\n",
        "                            rmse_dt_tfidf,\n",
        "                            mae_dt_tfidf,\n",
        "                            r2_dt_tfidf])\n",
        "performance_table.add_row(['Word2Vec - Decision Tree', \n",
        "                            mse_dt_w2v,\n",
        "                            rmse_dt_w2v,\n",
        "                            mae_dt_w2v,\n",
        "                            r2_dt_w2v])\n",
        "performance_table.add_row(['TFIDF - SVR(MultiOutputRegressor)', \n",
        "                            mse_svr_tfidf,\n",
        "                            rmse_svr_tfidf,\n",
        "                            mae_svr_tfidf,\n",
        "                            r2_svr_tfidf])\n",
        "performance_table.add_row(['Word2Vec - SVR(MultiOutputRegressor)', \n",
        "                            mse_svr_w2v,\n",
        "                            rmse_svr_w2v,\n",
        "                            mae_svr_w2v,\n",
        "                            r2_svr_w2v]) \n",
        "performance_table.add_row(['TFIDF - SVR(RegressorChain)', \n",
        "                            mse_svr_tfidf_rc,\n",
        "                            rmse_svr_tfidf_rc,\n",
        "                            mae_svr_tfidf_rc,\n",
        "                            r2_svr_tfidf_rc])\n",
        "performance_table.add_row(['Word2Vec - SVR(RegressorChain)', \n",
        "                            mse_svr_w2v_rc,\n",
        "                            rmse_svr_w2v_rc,\n",
        "                            mae_svr_w2v_rc,\n",
        "                            r2_svr_w2v_rc])                           \n",
        "\n",
        "print(performance_table)"
      ],
      "metadata": {
        "colab": {
          "base_uri": "https://localhost:8080/"
        },
        "id": "86Z-XZj1jTCQ",
        "outputId": "03c4a031-f898-4613-b83b-bbd48ca2352f"
      },
      "execution_count": null,
      "outputs": [
        {
          "output_type": "stream",
          "name": "stdout",
          "text": [
            "+--------------------------------------+---------------------+--------------------+---------------------+---------------------+\n",
            "|                Method                |         MSE         |        RMSE        |         MAE         |      R-Squared      |\n",
            "+--------------------------------------+---------------------+--------------------+---------------------+---------------------+\n",
            "|      TFIDF - Linear Regression       |  0.6853857979599436 | 0.8278803041261119 |  0.6411115414057668 |  0.3021841300063293 |\n",
            "|     Word2Vec - Linear Regression     |  0.8325556307210368 | 0.9124448644828008 |  0.6979680816051165 |  0.1524191078393177 |\n",
            "|          TFIDF - K-Nearest           |  0.7446548296979877 | 0.8629338501287267 |  0.6702153622706692 | 0.24191593378901977 |\n",
            "|         Word2Vec - K-Nearest         |  0.7639216277423456 | 0.8740261024376478 |  0.6792615413720968 | 0.22227114090446143 |\n",
            "|        TFIDF - Random Forest         |  0.3566786241916813 |  0.59722577321452  |  0.4096955829560201 |  0.6367505112711895 |\n",
            "|       Word2Vec - Random Forest       |  0.3599642341720213 | 0.5999701944030398 |  0.412263837701742  |  0.6334021816911375 |\n",
            "|        TFIDF - Decision Tree         | 0.38215466428350764 | 0.6181865934194203 |  0.2730110347877886 |  0.6108191139659797 |\n",
            "|       Word2Vec - Decision Tree       |  0.4215603233905168 | 0.6492767694831818 | 0.28490958987344767 |   0.57060026790459  |\n",
            "|  TFIDF - SVR(MultiOutputRegressor)   |  0.7527118874029148 | 0.8675896999174868 |  0.6004562673472121 | 0.23361113672673514 |\n",
            "| Word2Vec - SVR(MultiOutputRegressor) |  0.8654279432961328 | 0.9302837971802652 |  0.6791484176277084 | 0.11899644439783852 |\n",
            "|     TFIDF - SVR(RegressorChain)      |  0.7526402373572249 | 0.8675484063481558 |   0.60044845086726  |  0.2336829272385209 |\n",
            "|    Word2Vec - SVR(RegressorChain)    |  0.8651992748144194 | 0.9301608865214767 |  0.6790205290254425 | 0.11924084417762522 |\n",
            "+--------------------------------------+---------------------+--------------------+---------------------+---------------------+\n"
          ]
        }
      ]
    },
    {
      "cell_type": "code",
      "source": [
        "# Draw table\n",
        "from prettytable import PrettyTable\n",
        "performance_table_tfidf = PrettyTable()\n",
        "\n",
        "performance_table_tfidf.field_names = ['Method', 'MSE', 'RMSE', 'MAE', 'R-Squared']\n",
        "performance_table_tfidf.add_row(['TFIDF - Linear Regression', \n",
        "                            mse_lr_tfidf,\n",
        "                            rmse_lr_tfidf,\n",
        "                            mae_lr_tfidf,\n",
        "                            r2_lr_tfidf])\n",
        "performance_table_tfidf.add_row(['TFIDF - K-Nearest', \n",
        "                            mse_kn_tfidf,\n",
        "                            rmse_kn_tfidf,\n",
        "                            mae_kn_tfidf,\n",
        "                            r2_kn_tfidf])\n",
        "performance_table_tfidf.add_row(['TFIDF - Random Forest', \n",
        "                            mse_rf_tfidf,\n",
        "                            rmse_rf_tfidf,\n",
        "                            mae_rf_tfidf,\n",
        "                            r2_rf_tfidf])  \n",
        "performance_table_tfidf.add_row(['TFIDF - Decision Tree', \n",
        "                            mse_dt_tfidf,\n",
        "                            rmse_dt_tfidf,\n",
        "                            mae_dt_tfidf,\n",
        "                            r2_dt_tfidf])\n",
        "performance_table_tfidf.add_row(['TFIDF - SVR(MultiOutputRegressor)', \n",
        "                            mse_svr_tfidf,\n",
        "                            rmse_svr_tfidf,\n",
        "                            mae_svr_tfidf,\n",
        "                            r2_svr_tfidf])  \n",
        "performance_table_tfidf.add_row(['TFIDF - SVR(RegressorChain)', \n",
        "                            mse_svr_tfidf_rc,\n",
        "                            rmse_svr_tfidf_rc,\n",
        "                            mae_svr_tfidf_rc,\n",
        "                            r2_svr_tfidf_rc])                         \n",
        "\n",
        "print(performance_table_tfidf)"
      ],
      "metadata": {
        "colab": {
          "base_uri": "https://localhost:8080/"
        },
        "id": "Yy18vfojGAgn",
        "outputId": "85970db3-5ea8-49a0-b1dd-8e5b5d3c9079"
      },
      "execution_count": null,
      "outputs": [
        {
          "output_type": "stream",
          "name": "stdout",
          "text": [
            "+-----------------------------------+---------------------+--------------------+--------------------+---------------------+\n",
            "|               Method              |         MSE         |        RMSE        |        MAE         |      R-Squared      |\n",
            "+-----------------------------------+---------------------+--------------------+--------------------+---------------------+\n",
            "|     TFIDF - Linear Regression     |  0.6853857979599436 | 0.8278803041261119 | 0.6411115414057668 |  0.3021841300063293 |\n",
            "|         TFIDF - K-Nearest         |  0.7446548296979877 | 0.8629338501287267 | 0.6702153622706692 | 0.24191593378901977 |\n",
            "|       TFIDF - Random Forest       |  0.3566786241916813 |  0.59722577321452  | 0.4096955829560201 |  0.6367505112711895 |\n",
            "|       TFIDF - Decision Tree       | 0.38215466428350764 | 0.6181865934194203 | 0.2730110347877886 |  0.6108191139659797 |\n",
            "| TFIDF - SVR(MultiOutputRegressor) |  0.7527118874029148 | 0.8675896999174868 | 0.6004562673472121 | 0.23361113672673514 |\n",
            "|    TFIDF - SVR(RegressorChain)    |  0.7526402373572249 | 0.8675484063481558 |  0.60044845086726  |  0.2336829272385209 |\n",
            "+-----------------------------------+---------------------+--------------------+--------------------+---------------------+\n"
          ]
        }
      ]
    },
    {
      "cell_type": "code",
      "source": [
        "import matplotlib.pyplot as plt\n",
        "\n",
        "#折线图\n",
        "names = ['MSE','RMSE','MAE','R-Squared']\n",
        "x = range(len(names))\n",
        "lr = [0.6853857979599436,0.8278803041261119,0.6411115414057668,0.3021841300063293]\n",
        "kn = [0.7446548296979877,0.8629338501287267,0.6702153622706692,0.24191593378901977]\n",
        "rf = [0.3566786241916813,0.59722577321452,0.4096955829560201,0.6367505112711895]\n",
        "dt = [0.38215466428350764,0.6181865934194203,0.2730110347877886,0.6108191139659797]\n",
        "svr_1 = [0.7527118874029148,0.8675896999174868,0.6004562673472121,0.23361113672673514]\n",
        "svr_2 = [0.7526402373572249,0.8675484063481558,0.60044845086726,0.2336829272385209]\n",
        "plt.plot(x,lr,'s-',color = 'r',label=\"Linear Regression\")#s-:方形\n",
        "plt.plot(x,kn,'o-',color = 'g',label=\"K-Nearest\")#o-:圆形\n",
        "plt.plot(x,rf,'x-',color = 'y',label=\"Random Forest\")\n",
        "plt.plot(x,dt,'*-',color = 'c',label=\"Decision Tree\")\n",
        "plt.plot(x,svr_1,'D-',color = 'b',label=\"SVR(MultiOutputRegressor)\")\n",
        "plt.plot(x,svr_2,'v-',color = 'm',label=\"SVR(RegressorChain)\")\n",
        "\n",
        "plt.xticks(x,names)\n",
        "#plt.xlabel(\"region length\")#横坐标名字\n",
        "plt.ylabel(\"score\")#纵坐标名字\n",
        "plt.legend(loc = \"best\")#图例\n",
        "\n",
        "plt.title(\"TFIDF\", \n",
        "          fontdict={'family': 'monospace', \n",
        "                    'color' : 'black',\n",
        "                    'weight': 'bold',\n",
        "                    'size': 15},\n",
        "          loc='left')\n",
        "\n",
        "plt.grid(True)\n",
        "plt.show()"
      ],
      "metadata": {
        "colab": {
          "base_uri": "https://localhost:8080/",
          "height": 283
        },
        "id": "_ME2KiFEx9S7",
        "outputId": "f2586e73-eafc-4f15-bafd-ca7fd630a6fc"
      },
      "execution_count": 12,
      "outputs": [
        {
          "output_type": "display_data",
          "data": {
            "image/png": "[encoded data removed]",
            "text/plain": [
              "<Figure size 432x288 with 1 Axes>"
            ]
          },
          "metadata": {
            "needs_background": "light"
          }
        }
      ]
    },
    {
      "cell_type": "code",
      "source": [
        "# Draw table\n",
        "from prettytable import PrettyTable\n",
        "performance_table_w2v = PrettyTable()\n",
        "\n",
        "performance_table_w2v.field_names = ['Method', 'MSE', 'RMSE', 'MAE', 'R-Squared']\n",
        "performance_table_w2v.add_row(['Word2Vec - Linear Regression', \n",
        "                            mse_lr_w2v,\n",
        "                            rmse_lr_w2v,\n",
        "                            mae_lr_w2v,\n",
        "                            r2_lr_w2v])\n",
        "performance_table_w2v.add_row(['Word2Vec - K-Nearest', \n",
        "                            mse_kn_w2v,\n",
        "                            rmse_kn_w2v,\n",
        "                            mae_kn_w2v,\n",
        "                            r2_kn_w2v]) \n",
        "performance_table_w2v.add_row(['Word2Vec - Random Forest', \n",
        "                            mse_rf_w2v,\n",
        "                            rmse_rf_w2v,\n",
        "                            mae_rf_w2v,\n",
        "                            r2_rf_w2v])\n",
        "performance_table_w2v.add_row(['Word2Vec - Decision Tree', \n",
        "                            mse_dt_w2v,\n",
        "                            rmse_dt_w2v,\n",
        "                            mae_dt_w2v,\n",
        "                            r2_dt_w2v])\n",
        "performance_table_w2v.add_row(['Word2Vec - SVR(MultiOutputRegressor)', \n",
        "                            mse_svr_w2v,\n",
        "                            rmse_svr_w2v,\n",
        "                            mae_svr_w2v,\n",
        "                            r2_svr_w2v]) \n",
        "performance_table_w2v.add_row(['Word2Vec - SVR(RegressorChain)', \n",
        "                            mse_svr_w2v_rc,\n",
        "                            rmse_svr_w2v_rc,\n",
        "                            mae_svr_w2v_rc,\n",
        "                            r2_svr_w2v_rc])                          \n",
        "\n",
        "print(performance_table_w2v)"
      ],
      "metadata": {
        "colab": {
          "base_uri": "https://localhost:8080/"
        },
        "id": "YUPYerWdGUhM",
        "outputId": "8f7fa9c5-cef0-4f77-e8c0-9bfa70b15456"
      },
      "execution_count": null,
      "outputs": [
        {
          "output_type": "stream",
          "name": "stdout",
          "text": [
            "+--------------------------------------+--------------------+--------------------+---------------------+---------------------+\n",
            "|                Method                |        MSE         |        RMSE        |         MAE         |      R-Squared      |\n",
            "+--------------------------------------+--------------------+--------------------+---------------------+---------------------+\n",
            "|     Word2Vec - Linear Regression     | 0.8325556307210368 | 0.9124448644828008 |  0.6979680816051165 |  0.1524191078393177 |\n",
            "|         Word2Vec - K-Nearest         | 0.7639216277423456 | 0.8740261024376478 |  0.6792615413720968 | 0.22227114090446143 |\n",
            "|       Word2Vec - Random Forest       | 0.3599642341720213 | 0.5999701944030398 |  0.412263837701742  |  0.6334021816911375 |\n",
            "|       Word2Vec - Decision Tree       | 0.4215603233905168 | 0.6492767694831818 | 0.28490958987344767 |   0.57060026790459  |\n",
            "| Word2Vec - SVR(MultiOutputRegressor) | 0.8654279432961328 | 0.9302837971802652 |  0.6791484176277084 | 0.11899644439783852 |\n",
            "|    Word2Vec - SVR(RegressorChain)    | 0.8651992748144194 | 0.9301608865214767 |  0.6790205290254425 | 0.11924084417762522 |\n",
            "+--------------------------------------+--------------------+--------------------+---------------------+---------------------+\n"
          ]
        }
      ]
    },
    {
      "cell_type": "code",
      "source": [
        "import matplotlib.pyplot as plt\n",
        "\n",
        "#折线图\n",
        "names = ['MSE','RMSE','MAE','R-Squared']\n",
        "x = range(len(names))\n",
        "lr = [0.8325556307210368,0.9124448644828008,0.6979680816051165,0.1524191078393177]\n",
        "kn = [0.7639216277423456,0.8740261024376478,0.6792615413720968,0.22227114090446143]\n",
        "rf = [0.3599642341720213,0.5999701944030398,0.412263837701742,0.6334021816911375]\n",
        "dt = [0.4215603233905168,0.6492767694831818,0.28490958987344767,0.57060026790459]\n",
        "svr_1 = [0.8654279432961328,0.9302837971802652,0.6791484176277084,0.11899644439783852]\n",
        "svr_2 = [0.8651992748144194,0.9301608865214767,0.6790205290254425,0.11924084417762522]\n",
        "plt.plot(x,lr,'s-',color = 'r',label=\"Linear Regression\")#s-:方形\n",
        "plt.plot(x,kn,'o-',color = 'g',label=\"K-Nearest\")#o-:圆形\n",
        "plt.plot(x,rf,'x-',color = 'y',label=\"Random Forest\")\n",
        "plt.plot(x,dt,'*-',color = 'c',label=\"Decision Tree\")\n",
        "plt.plot(x,svr_1,'D-',color = 'b',label=\"SVR(MultiOutputRegressor)\")\n",
        "plt.plot(x,svr_2,'v-',color = 'm',label=\"SVR(RegressorChain)\")\n",
        "\n",
        "plt.xticks(x,names)\n",
        "#plt.xlabel(\"region length\")#横坐标名字\n",
        "plt.ylabel(\"score\")#纵坐标名字\n",
        "plt.legend(loc = \"best\")#图例\n",
        "\n",
        "plt.title(\"Word2Vec\", \n",
        "          fontdict={'family': 'monospace', \n",
        "                    'color' : 'black',\n",
        "                    'weight': 'bold',\n",
        "                    'size': 15},\n",
        "          loc='left')\n",
        "\n",
        "plt.grid(True)\n",
        "plt.show()"
      ],
      "metadata": {
        "colab": {
          "base_uri": "https://localhost:8080/",
          "height": 283
        },
        "id": "vtArpl633LOU",
        "outputId": "0c3a63db-8790-4c09-c891-a4e5565bfac5"
      },
      "execution_count": 13,
      "outputs": [
        {
          "output_type": "display_data",
          "data": {
            "image/png": "[encoded data removed]",
            "text/plain": [
              "<Figure size 432x288 with 1 Axes>"
            ]
          },
          "metadata": {
            "needs_background": "light"
          }
        }
      ]
    },
    {
      "cell_type": "code",
      "source": [
        "print(type(pred_svr_w2v_rc))\n",
        "print(type(test_y))"
      ],
      "metadata": {
        "colab": {
          "base_uri": "https://localhost:8080/"
        },
        "id": "jD1jM0n6Rjkw",
        "outputId": "cc792023-f355-44f2-b4ff-22536bf494fa"
      },
      "execution_count": null,
      "outputs": [
        {
          "output_type": "stream",
          "name": "stdout",
          "text": [
            "<class 'numpy.ndarray'>\n",
            "<class 'numpy.ndarray'>\n"
          ]
        }
      ]
    },
    {
      "cell_type": "code",
      "source": [
        "test_useful = test_y[:, 0]\n",
        "test_funny = test_y[:, 1]\n",
        "test_cool = test_y[:, 2]"
      ],
      "metadata": {
        "id": "tFJPfTT9SVh6"
      },
      "execution_count": null,
      "outputs": []
    },
    {
      "cell_type": "code",
      "source": [
        "useful_lr_tfidf = pred_lr_tfidf[:, 0]\n",
        "funny_lr_tfidf = pred_lr_tfidf[:, 1]\n",
        "cool_lr_tfidf = pred_lr_tfidf[:, 2]\n",
        "\n",
        "mse_useful_lr_tfidf = mean_squared_error(test_useful, useful_lr_tfidf)\n",
        "rmse_useful_lr_tfidf = mse_useful_lr_tfidf ** 0.5\n",
        "mae_useful_lr_tfidf = mean_absolute_error(test_useful, useful_lr_tfidf)\n",
        "r2_useful_lr_tfidf = r2_score(test_useful, useful_lr_tfidf)\n",
        "\n",
        "mse_funny_lr_tfidf = mean_squared_error(test_funny, funny_lr_tfidf)\n",
        "rmse_funny_lr_tfidf = mse_funny_lr_tfidf ** 0.5\n",
        "mae_funny_lr_tfidf = mean_absolute_error(test_funny, funny_lr_tfidf)\n",
        "r2_funny_lr_tfidf = r2_score(test_funny, funny_lr_tfidf)\n",
        "\n",
        "mse_cool_lr_tfidf = mean_squared_error(test_cool, cool_lr_tfidf)\n",
        "rmse_cool_lr_tfidf = mse_cool_lr_tfidf ** 0.5\n",
        "mae_cool_lr_tfidf = mean_absolute_error(test_cool, cool_lr_tfidf)\n",
        "r2_cool_lr_tfidf = r2_score(test_cool, cool_lr_tfidf)\n",
        "\n",
        "# Draw table\n",
        "from prettytable import PrettyTable\n",
        "performance_table_label_lr_tfidf = PrettyTable()\n",
        "\n",
        "performance_table_label_lr_tfidf.field_names = ['Method','Label', 'MSE', 'RMSE', 'MAE', 'R-Squared']\n",
        "performance_table_label_lr_tfidf.add_row(['TFIDF - Linear Regression', 'useful',\n",
        "                            mse_useful_lr_tfidf,\n",
        "                            rmse_useful_lr_tfidf,\n",
        "                            mae_useful_lr_tfidf,\n",
        "                            r2_useful_lr_tfidf])\n",
        "performance_table_label_lr_tfidf.add_row(['TFIDF - Linear Regression', 'funny',\n",
        "                            mse_funny_lr_tfidf,\n",
        "                            rmse_funny_lr_tfidf,\n",
        "                            mae_funny_lr_tfidf,\n",
        "                            r2_funny_lr_tfidf])\n",
        "performance_table_label_lr_tfidf.add_row(['TFIDF - Linear Regression', 'cool',\n",
        "                            mse_cool_lr_tfidf,\n",
        "                            rmse_cool_lr_tfidf,\n",
        "                            mae_cool_lr_tfidf,\n",
        "                            r2_cool_lr_tfidf])\n",
        "print(performance_table_label_lr_tfidf)"
      ],
      "metadata": {
        "colab": {
          "base_uri": "https://localhost:8080/"
        },
        "id": "_yUFbCbeTQnQ",
        "outputId": "637c4eb3-c904-436a-e445-c2b5009c8463"
      },
      "execution_count": null,
      "outputs": [
        {
          "output_type": "stream",
          "name": "stdout",
          "text": [
            "+---------------------------+--------+--------------------+--------------------+--------------------+---------------------+\n",
            "|           Method          | Label  |        MSE         |        RMSE        |        MAE         |      R-Squared      |\n",
            "+---------------------------+--------+--------------------+--------------------+--------------------+---------------------+\n",
            "| TFIDF - Linear Regression | useful | 0.7309947190817195 | 0.8549822916772718 | 0.6760122032390765 |  0.2624088261386168 |\n",
            "| TFIDF - Linear Regression | funny  | 0.6807706765964469 | 0.8250882841226428 | 0.6358222049814012 |  0.311599585303329  |\n",
            "| TFIDF - Linear Regression |  cool  | 0.644391998201664  | 0.8027403055793723 | 0.611500215996825  | 0.33254397857704276 |\n",
            "+---------------------------+--------+--------------------+--------------------+--------------------+---------------------+\n"
          ]
        }
      ]
    },
    {
      "cell_type": "code",
      "source": [
        "import matplotlib.pyplot as plt\n",
        "\n",
        "#折线图\n",
        "names = ['MSE','RMSE','MAE','R-Squared']\n",
        "x = range(len(names))\n",
        "useful = [0.7309947190817195,0.8549822916772718,0.6760122032390765,0.2624088261386168]\n",
        "funny = [0.6807706765964469,0.8250882841226428,0.6358222049814012,0.311599585303329]\n",
        "cool = [0.644391998201664,0.8027403055793723,0.611500215996825,0.33254397857704276]\n",
        "\n",
        "plt.plot(x,useful,'s-',color = 'r',label=\"useful\")#s-:方形\n",
        "plt.plot(x,funny,'o-',color = 'g',label=\"funny\")#o-:圆形\n",
        "plt.plot(x,cool,'x-',color = 'y',label=\"cool\")\n",
        "\n",
        "plt.xticks(x,names)\n",
        "#plt.xlabel(\"region length\")#横坐标名字\n",
        "plt.ylabel(\"score\")#纵坐标名字\n",
        "plt.legend(loc = \"best\")#图例\n",
        "\n",
        "plt.title(\"TFIDF - Linear Regression\", \n",
        "          fontdict={'family': 'monospace', \n",
        "                    'color' : 'black',\n",
        "                    'weight': 'bold',\n",
        "                    'size': 15},\n",
        "          loc='left')\n",
        "\n",
        "plt.grid(True)\n",
        "plt.show()"
      ],
      "metadata": {
        "colab": {
          "base_uri": "https://localhost:8080/",
          "height": 284
        },
        "id": "AxP1Iw3V33L_",
        "outputId": "748ad210-df4a-4c24-d006-13eddd26935b"
      },
      "execution_count": 14,
      "outputs": [
        {
          "output_type": "display_data",
          "data": {
            "image/png": "[encoded data removed]",
            "text/plain": [
              "<Figure size 432x288 with 1 Axes>"
            ]
          },
          "metadata": {
            "needs_background": "light"
          }
        }
      ]
    },
    {
      "cell_type": "code",
      "source": [
        "useful_dt_w2v = pred_dt_w2v[:, 0]\n",
        "funny_dt_w2v = pred_dt_w2v[:, 1]\n",
        "cool_dt_w2v = pred_dt_w2v[:, 2]\n",
        "\n",
        "mse_useful_dt_w2v = mean_squared_error(test_useful, useful_dt_w2v)\n",
        "rmse_useful_dt_w2v = mse_useful_dt_w2v ** 0.5\n",
        "mae_useful_dt_w2v = mean_absolute_error(test_useful, useful_dt_w2v)\n",
        "r2_useful_dt_w2v = r2_score(test_useful, useful_dt_w2v)\n",
        "\n",
        "mse_funny_dt_w2v = mean_squared_error(test_funny, funny_dt_w2v)\n",
        "rmse_funny_dt_w2v = mse_funny_lr_tfidf ** 0.5\n",
        "mae_funny_dt_w2v = mean_absolute_error(test_funny, funny_dt_w2v)\n",
        "r2_funny_dt_w2v = r2_score(test_funny, funny_dt_w2v)\n",
        "\n",
        "mse_cool_dt_w2v = mean_squared_error(test_cool, cool_dt_w2v)\n",
        "rmse_cool_dt_w2v = mse_cool_dt_w2v ** 0.5\n",
        "mae_cool_dt_w2v = mean_absolute_error(test_cool, cool_dt_w2v)\n",
        "r2_cool_dt_w2v = r2_score(test_cool, cool_dt_w2v)\n",
        "\n",
        "# Draw table\n",
        "from prettytable import PrettyTable\n",
        "performance_table_label_dt_w2v = PrettyTable()\n",
        "\n",
        "performance_table_label_dt_w2v.field_names = ['Method','Label', 'MSE', 'RMSE', 'MAE', 'R-Squared']\n",
        "performance_table_label_dt_w2v.add_row(['Word2Vec - Decision Tree', 'useful',\n",
        "                            mse_useful_dt_w2v,\n",
        "                            rmse_useful_dt_w2v,\n",
        "                            mae_useful_dt_w2v,\n",
        "                            r2_useful_dt_w2v])\n",
        "performance_table_label_dt_w2v.add_row(['Word2Vec - Decision Tree', 'funny',\n",
        "                            mse_funny_dt_w2v,\n",
        "                            rmse_funny_dt_w2v,\n",
        "                            mae_funny_dt_w2v,\n",
        "                            r2_funny_dt_w2v])\n",
        "performance_table_label_dt_w2v.add_row(['Word2Vec - Decision Tree', 'cool',\n",
        "                            mse_cool_dt_w2v,\n",
        "                            rmse_cool_dt_w2v,\n",
        "                            mae_cool_dt_w2v,\n",
        "                            r2_cool_dt_w2v])\n",
        "print(performance_table_label_dt_w2v)"
      ],
      "metadata": {
        "colab": {
          "base_uri": "https://localhost:8080/"
        },
        "id": "vNBitI89NS5W",
        "outputId": "a6c0949f-d8d9-492c-c98c-c4c46948775e"
      },
      "execution_count": null,
      "outputs": [
        {
          "output_type": "stream",
          "name": "stdout",
          "text": [
            "+--------------------------+--------+---------------------+--------------------+---------------------+--------------------+\n",
            "|          Method          | Label  |         MSE         |        RMSE        |         MAE         |     R-Squared      |\n",
            "+--------------------------+--------+---------------------+--------------------+---------------------+--------------------+\n",
            "| Word2Vec - Decision Tree | useful | 0.45127936421291354 | 0.6717732982285866 | 0.29681560910000737 | 0.5446483164647726 |\n",
            "| Word2Vec - Decision Tree | funny  | 0.39322857646312637 | 0.8250882841226428 |  0.2762162708462687 | 0.6023643138374114 |\n",
            "| Word2Vec - Decision Tree |  cool  | 0.42017302949551055 | 0.648207551248449  | 0.28169688967406664 | 0.5647881734115858 |\n",
            "+--------------------------+--------+---------------------+--------------------+---------------------+--------------------+\n"
          ]
        }
      ]
    },
    {
      "cell_type": "code",
      "source": [
        "import matplotlib.pyplot as plt\n",
        "\n",
        "#折线图\n",
        "names = ['MSE','RMSE','MAE','R-Squared']\n",
        "x = range(len(names))\n",
        "useful = [0.45127936421291354,0.6717732982285866,0.29681560910000737,0.5446483164647726]\n",
        "funny = [0.39322857646312637,0.8250882841226428,0.2762162708462687,0.6023643138374114]\n",
        "cool = [0.42017302949551055,0.648207551248449,0.28169688967406664,0.5647881734115858]\n",
        "\n",
        "plt.plot(x,useful,'s-',color = 'r',label=\"useful\")#s-:方形\n",
        "plt.plot(x,funny,'o-',color = 'g',label=\"funny\")#o-:圆形\n",
        "plt.plot(x,cool,'x-',color = 'y',label=\"cool\")\n",
        "\n",
        "plt.xticks(x,names)\n",
        "#plt.xlabel(\"region length\")#横坐标名字\n",
        "plt.ylabel(\"score\")#纵坐标名字\n",
        "plt.legend(loc = \"best\")#图例\n",
        "\n",
        "plt.title(\"Word2Vec - Decision Tree\", \n",
        "          fontdict={'family': 'monospace', \n",
        "                    'color' : 'black',\n",
        "                    'weight': 'bold',\n",
        "                    'size': 15},\n",
        "          loc='left')\n",
        "\n",
        "plt.grid(True)\n",
        "plt.show()"
      ],
      "metadata": {
        "colab": {
          "base_uri": "https://localhost:8080/",
          "height": 283
        },
        "id": "ny7_5y2-4i6q",
        "outputId": "61542725-cbc8-4c7c-d1a9-d21a40c2b0b0"
      },
      "execution_count": 15,
      "outputs": [
        {
          "output_type": "display_data",
          "data": {
            "image/png": "[encoded data removed]",
            "text/plain": [
              "<Figure size 432x288 with 1 Axes>"
            ]
          },
          "metadata": {
            "needs_background": "light"
          }
        }
      ]
    },
    {
      "cell_type": "code",
      "source": [
        "useful_dt_w2v = pred_svr_w2v_rc[:, 0]\n",
        "funny_dt_w2v = pred_svr_w2v_rc[:, 1]\n",
        "cool_dt_w2v = pred_svr_w2v_rc[:, 2]\n",
        "\n",
        "mse_useful_dt_w2v = mean_squared_error(test_useful, useful_dt_w2v)\n",
        "rmse_useful_dt_w2v = mse_useful_dt_w2v ** 0.5\n",
        "mae_useful_dt_w2v = mean_absolute_error(test_useful, useful_dt_w2v)\n",
        "r2_useful_dt_w2v = r2_score(test_useful, useful_dt_w2v)\n",
        "\n",
        "mse_funny_dt_w2v = mean_squared_error(test_funny, funny_dt_w2v)\n",
        "rmse_funny_dt_w2v = mse_funny_lr_tfidf ** 0.5\n",
        "mae_funny_dt_w2v = mean_absolute_error(test_funny, funny_dt_w2v)\n",
        "r2_funny_dt_w2v = r2_score(test_funny, funny_dt_w2v)\n",
        "\n",
        "mse_cool_dt_w2v = mean_squared_error(test_cool, cool_dt_w2v)\n",
        "rmse_cool_dt_w2v = mse_cool_dt_w2v ** 0.5\n",
        "mae_cool_dt_w2v = mean_absolute_error(test_cool, cool_dt_w2v)\n",
        "r2_cool_dt_w2v = r2_score(test_cool, cool_dt_w2v)\n",
        "\n",
        "# Draw table\n",
        "from prettytable import PrettyTable\n",
        "performance_table_label_dt_w2v = PrettyTable()\n",
        "\n",
        "performance_table_label_dt_w2v.field_names = ['Method','Label', 'MSE', 'RMSE', 'MAE', 'R-Squared']\n",
        "performance_table_label_dt_w2v.add_row(['Word2Vec - SVR(RegressorChain)', 'useful',\n",
        "                            mse_useful_dt_w2v,\n",
        "                            rmse_useful_dt_w2v,\n",
        "                            mae_useful_dt_w2v,\n",
        "                            r2_useful_dt_w2v])\n",
        "performance_table_label_dt_w2v.add_row(['Word2Vec - SVR(RegressorChain)', 'funny',\n",
        "                            mse_funny_dt_w2v,\n",
        "                            rmse_funny_dt_w2v,\n",
        "                            mae_funny_dt_w2v,\n",
        "                            r2_funny_dt_w2v])\n",
        "performance_table_label_dt_w2v.add_row(['Word2Vec - SVR(RegressorChain)', 'cool',\n",
        "                            mse_cool_dt_w2v,\n",
        "                            rmse_cool_dt_w2v,\n",
        "                            mae_cool_dt_w2v,\n",
        "                            r2_cool_dt_w2v])\n",
        "print(performance_table_label_dt_w2v)"
      ],
      "metadata": {
        "colab": {
          "base_uri": "https://localhost:8080/"
        },
        "id": "7kdf5RWPOUK0",
        "outputId": "3296a5ef-6263-4f18-b531-ce9ea7a627e6"
      },
      "execution_count": null,
      "outputs": [
        {
          "output_type": "stream",
          "name": "stdout",
          "text": [
            "+--------------------------------+--------+--------------------+--------------------+--------------------+---------------------+\n",
            "|             Method             | Label  |        MSE         |        RMSE        |        MAE         |      R-Squared      |\n",
            "+--------------------------------+--------+--------------------+--------------------+--------------------+---------------------+\n",
            "| Word2Vec - SVR(RegressorChain) | useful | 0.922821475236321  | 0.9606359743609028 | 0.7264321129814866 | 0.06885103624400013 |\n",
            "| Word2Vec - SVR(RegressorChain) | funny  | 0.8753397163951009 | 0.8250882841226428 | 0.666003732679292  |  0.1148499127789856 |\n",
            "| Word2Vec - SVR(RegressorChain) |  cool  | 0.7974366328118356 | 0.8929930754557034 | 0.6446257414155495 | 0.17402158350989128 |\n",
            "+--------------------------------+--------+--------------------+--------------------+--------------------+---------------------+\n"
          ]
        }
      ]
    },
    {
      "cell_type": "code",
      "source": [
        "import matplotlib.pyplot as plt\n",
        "\n",
        "#折线图\n",
        "names = ['MSE','RMSE','MAE','R-Squared']\n",
        "x = range(len(names))\n",
        "useful = [0.922821475236321,0.9606359743609028,0.7264321129814866,0.06885103624400013]\n",
        "funny = [0.8753397163951009,0.8250882841226428,0.666003732679292,0.1148499127789856]\n",
        "cool = [0.7974366328118356,0.8929930754557034,0.6446257414155495,0.17402158350989128]\n",
        "\n",
        "plt.plot(x,useful,'s-',color = 'r',label=\"useful\")#s-:方形\n",
        "plt.plot(x,funny,'o-',color = 'g',label=\"funny\")#o-:圆形\n",
        "plt.plot(x,cool,'x-',color = 'y',label=\"cool\")\n",
        "\n",
        "plt.xticks(x,names)\n",
        "#plt.xlabel(\"region length\")#横坐标名字\n",
        "plt.ylabel(\"score\")#纵坐标名字\n",
        "plt.legend(loc = \"best\")#图例\n",
        "\n",
        "plt.title(\"Word2Vec - SVR(RegressorChain)\", \n",
        "          fontdict={'family': 'monospace', \n",
        "                    'color' : 'black',\n",
        "                    'weight': 'bold',\n",
        "                    'size': 15},\n",
        "          loc='left')\n",
        "\n",
        "plt.grid(True)\n",
        "plt.show()"
      ],
      "metadata": {
        "colab": {
          "base_uri": "https://localhost:8080/",
          "height": 284
        },
        "id": "ZKVsYS7B43UR",
        "outputId": "c9bcc0e0-cc70-42d1-c7cd-4690331e5efb"
      },
      "execution_count": 16,
      "outputs": [
        {
          "output_type": "display_data",
          "data": {
            "image/png": "[encoded data removed]",
            "text/plain": [
              "<Figure size 432x288 with 1 Axes>"
            ]
          },
          "metadata": {
            "needs_background": "light"
          }
        }
      ]
    }
  ]
}